{
 "cells": [
  {
   "cell_type": "code",
   "execution_count": 7,
   "id": "5b970a1e",
   "metadata": {},
   "outputs": [
    {
     "name": "stdout",
     "output_type": "stream",
     "text": [
      "   survived  pclass     sex   age  sibsp  parch     fare embarked  class  \\\n",
      "0         0       3    male  22.0      1      0   7.2500        S  Third   \n",
      "1         1       1  female  38.0      1      0  71.2833        C  First   \n",
      "2         1       3  female  26.0      0      0   7.9250        S  Third   \n",
      "3         1       1  female  35.0      1      0  53.1000        S  First   \n",
      "4         0       3    male  35.0      0      0   8.0500        S  Third   \n",
      "\n",
      "     who  adult_male deck  embark_town alive  alone  \n",
      "0    man        True  NaN  Southampton    no  False  \n",
      "1  woman       False    C    Cherbourg   yes  False  \n",
      "2  woman       False  NaN  Southampton   yes   True  \n",
      "3  woman       False    C  Southampton   yes  False  \n",
      "4    man        True  NaN  Southampton    no   True  \n",
      "              precision    recall  f1-score   support\n",
      "\n",
      "           0       0.80      0.77      0.79       134\n",
      "           1       0.67      0.72      0.70        89\n",
      "\n",
      "    accuracy                           0.75       223\n",
      "   macro avg       0.74      0.74      0.74       223\n",
      "weighted avg       0.75      0.75      0.75       223\n",
      "\n"
     ]
    }
   ],
   "source": [
    "import pandas as pd\n",
    "import seaborn as sns\n",
    "from sklearn.pipeline import Pipeline\n",
    "from sklearn.model_selection import train_test_split\n",
    "from sklearn.ensemble import RandomForestClassifier\n",
    "from sklearn.metrics import classification_report\n",
    "from feature_engine.imputation import MeanMedianImputer, CategoricalImputer\n",
    "from feature_engine.encoding import OneHotEncoder\n",
    "from feature_engine.transformation import LogTransformer\n",
    "\n",
    "# Load data\n",
    "df = sns.load_dataset(\"titanic\")\n",
    "\n",
    "# Preview the data\n",
    "print(df.head())\n",
    "# print(df.isnull().sum())\n",
    "\n",
    "# Select relevant features \n",
    "df = df[[\"age\", \"fare\", \"embarked\", \"sex\", \"survived\"]].copy()\n",
    "\n",
    "# Split the features and the target\n",
    "X = df.drop(\"survived\", axis=1)\n",
    "y = df[\"survived\"]\n",
    "X_train, X_test, y_train, y_test = train_test_split(X, y, random_state=42)\n",
    "\n",
    "X_train[\"fare\"] = X_train[\"fare\"].replace(0, 0.01)\n",
    "X_test[\"fare\"] = X_test[\"fare\"].replace(0, 0.01)\n",
    "\n",
    "# Define a data preprocessing pipeline using Feature-engine\n",
    "pipeline = Pipeline(steps=[\n",
    "    (\"impute_num\", MeanMedianImputer(\n",
    "        imputation_method=\"median\",\n",
    "        variables=[\"age\", \"fare\"])),\n",
    "    (\"imput_cat\", CategoricalImputer(\n",
    "        imputation_method=\"frequent\",\n",
    "        variables=[\"embarked\"])),\n",
    "    (\"log_transform\", LogTransformer(\n",
    "        variables=[\"fare\"]\n",
    "    )),\n",
    "    (\"encode_cat\", OneHotEncoder(drop_last=True)),\n",
    "])\n",
    "\n",
    "# Fit and transform\n",
    "X_train_clean = pipeline.fit_transform(X_train)\n",
    "X_test_clean = pipeline.transform(X_test)\n",
    "\n",
    "# Train a simple classifier\n",
    "model = RandomForestClassifier(random_state=42)\n",
    "model.fit(X_train_clean, y_train)\n",
    "\n",
    "# Predict and evaluate\n",
    "y_pred = model.predict(X_test_clean)\n",
    "print(classification_report(y_test, y_pred))"
   ]
  },
  {
   "cell_type": "code",
   "execution_count": null,
   "id": "5ef1cf92",
   "metadata": {},
   "outputs": [],
   "source": []
  }
 ],
 "metadata": {
  "kernelspec": {
   "display_name": "vizsafe311",
   "language": "python",
   "name": "python3"
  },
  "language_info": {
   "codemirror_mode": {
    "name": "ipython",
    "version": 3
   },
   "file_extension": ".py",
   "mimetype": "text/x-python",
   "name": "python",
   "nbconvert_exporter": "python",
   "pygments_lexer": "ipython3",
   "version": "3.11.11"
  }
 },
 "nbformat": 4,
 "nbformat_minor": 5
}
