{
 "cells": [
  {
   "cell_type": "markdown",
   "id": "6b90494c",
   "metadata": {},
   "source": [
    "# Git cheat sheet\n",
    "\n",
    "`git init`  : creates a repo\n",
    "`git clone <url>` : clones a repo\n",
    "`git status` : see changes and untracked files\n",
    "`git add .` : stages all changes\n",
    "`git commit -m 'message'` : save a snapshot message\n",
    "`git push` : uploads commits to remote\n",
    "`git pull` : get latest changes from remote\n",
    "`git branch` : List local branches\n",
    "`git branch <name>` : Creates a new branch\n",
    "`git checkout <branch>` : Switches to a branch\n",
    "`git merge <branch>` : Merges a branch into a current one\n",
    "`git log` : shows a log \n",
    "`git remote -v` : Shows linked remotes(e.g. github) "
   ]
  }
 ],
 "metadata": {
  "language_info": {
   "name": "python"
  }
 },
 "nbformat": 4,
 "nbformat_minor": 5
}
