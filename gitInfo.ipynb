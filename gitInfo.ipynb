{
 "cells": [
  {
   "cell_type": "markdown",
   "id": "6b90494c",
   "metadata": {},
   "source": [
    "# Git cheat sheet\n",
    "\n",
    "`git init`  : creates a repo\n",
    "`git clone <url>` : clones a repo\n",
    "`git status` : see changes and untracked files\n",
    "`git add .` : stages all changes\n",
    "`git commit -m 'message'` : save a snapshot message\n",
    "`git push` : uploads commits to remote\n",
    "`git pull` : get latest changes from remote\n",
    "`git branch` : List local branches\n",
    "`git branch <name>` : Creates a new branch\n",
    "`git checkout <branch>` : Switches to a branch\n",
    "`git merge <branch>` : Merges a branch into a current one\n",
    "`git log` : shows a log \n",
    "`git remote -v` : Shows linked remotes(e.g. github) "
   ]
  },
  {
   "cell_type": "markdown",
   "id": "d76bf095",
   "metadata": {},
   "source": [
    "## Hackathon Surivival Cheatsheet\n",
    "\n",
    "- Mindset\n",
    "    - Think MVP not prefection. Working and simple > broken and ambitious\n",
    "- Teams Roles\n",
    "    - Assign roles clearly. Dev, UI, Git Wrangler, Docs, Project Lead\n",
    "- Sprint Plan\n",
    "    - Break the hackathon into mini-sprints. Trello / Notion \n",
    "- Git Strategy\n",
    "    - Branch per feature, pull often.  \n",
    "        `git checkout -b feature/signupgit pull origin main`\n",
    "- Git Workflow\n",
    "    - Merge main into your branch often\n",
    "        - Prevent conflicts; test before merging\n",
    "- MVP Planning \n",
    "    - Prioritize features that show core value\n",
    "        - Use MoSCoW: Must, Should, Could, Won't\n",
    "- Demo Path\n",
    "    - Make the happy path rock solid\n",
    "        - Script your demo: \"Click here, then here...'\n",
    "\n"
   ]
  }
 ],
 "metadata": {
  "language_info": {
   "name": "python"
  }
 },
 "nbformat": 4,
 "nbformat_minor": 5
}
