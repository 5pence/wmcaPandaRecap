{
 "cells": [
  {
   "cell_type": "markdown",
   "id": "13a58b71",
   "metadata": {},
   "source": [
    "# Comparision Table \n",
    "\n",
    "| Feature | Power BI | Tableau | QlikView |\n",
    "|---------|----------|---------|----------|\n",
    "| Owned by | Microsoft | Salesforce | Qlik |\n",
    "| Platform | Windows Only | Cross-Platform | Windows |\n",
    "| Best for | Business Analytics | Visual Storytelling | Interactive drill-downs |\n",
    "| UX | Familiar to Excel Users | Smoother UX, rich visuals | Steep learning curve |\n",
    "| Cost | Cheapest (esp with MS365) | Expensive for the full version | Expensive + complex license |\n",
    "| Learning Curve | Moderate | Easy | High |\n",
    "\n",
    "\n",
    "\n",
    "## Best Practices in Dashboard Design\n",
    "\n",
    "- Start with clear KPIs\n",
    "- Use consistent colours and fonts\n",
    "- Avoid Clutter - use white space\n",
    "- Add filters for interactivity\n",
    "- Don't use a pie chart unless it's the right chart to use\n",
    "- Tell a story - make it scannable in 30 seconds\n",
    "- Always label axes and frames clearly\n",
    "\n",
    "## When would you pick each?\n",
    "\n",
    "| Scenario | Reccommended Tool |\n",
    "|----------|-------------------|\n",
    "| You are working in a Microsoft heavy company | Power BI |\n",
    "| You're on a Mac or want rich design features | Tableau |\n",
    "| You need deep drill-downs and associative logic | Qlik |\n",
    "| You need to build fast or share online | Power BI or Tableau |\n",
    "| You want free learning/practice | Tableau Public, Power BI Desktop |"
   ]
  }
 ],
 "metadata": {
  "language_info": {
   "name": "python"
  }
 },
 "nbformat": 4,
 "nbformat_minor": 5
}
