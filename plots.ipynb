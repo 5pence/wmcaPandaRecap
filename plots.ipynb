{
 "cells": [
  {
   "cell_type": "code",
   "execution_count": 6,
   "id": "477f4497",
   "metadata": {},
   "outputs": [
    {
     "name": "stdout",
     "output_type": "stream",
     "text": [
      "  species     island  bill_length_mm  bill_depth_mm  flipper_length_mm  \\\n",
      "0  Adelie  Torgersen            39.1           18.7              181.0   \n",
      "1  Adelie  Torgersen            39.5           17.4              186.0   \n",
      "2  Adelie  Torgersen            40.3           18.0              195.0   \n",
      "4  Adelie  Torgersen            36.7           19.3              193.0   \n",
      "5  Adelie  Torgersen            39.3           20.6              190.0   \n",
      "\n",
      "   body_mass_g     sex  \n",
      "0       3750.0    Male  \n",
      "1       3800.0  Female  \n",
      "2       3250.0  Female  \n",
      "4       3450.0  Female  \n",
      "5       3650.0    Male  \n"
     ]
    },
    {
     "data": {
      "application/vnd.plotly.v1+json": {
       "config": {
        "plotlyServerURL": "https://plot.ly"
       },
       "data": [
        {
         "customdata": [
          [
           "Torgersen",
           39.1
          ],
          [
           "Torgersen",
           39.3
          ],
          [
           "Torgersen",
           39.2
          ],
          [
           "Torgersen",
           38.6
          ],
          [
           "Torgersen",
           34.6
          ],
          [
           "Torgersen",
           42.5
          ],
          [
           "Torgersen",
           46
          ],
          [
           "Biscoe",
           37.7
          ],
          [
           "Biscoe",
           38.2
          ],
          [
           "Biscoe",
           38.8
          ],
          [
           "Biscoe",
           40.6
          ],
          [
           "Biscoe",
           40.5
          ],
          [
           "Dream",
           37.2
          ],
          [
           "Dream",
           40.9
          ],
          [
           "Dream",
           39.2
          ],
          [
           "Dream",
           38.8
          ],
          [
           "Dream",
           39.8
          ],
          [
           "Dream",
           40.8
          ],
          [
           "Dream",
           44.1
          ],
          [
           "Dream",
           39.6
          ],
          [
           "Dream",
           41.1
          ],
          [
           "Dream",
           42.3
          ],
          [
           "Biscoe",
           40.1
          ],
          [
           "Biscoe",
           42
          ],
          [
           "Biscoe",
           41.4
          ],
          [
           "Biscoe",
           40.6
          ],
          [
           "Biscoe",
           37.6
          ],
          [
           "Biscoe",
           41.3
          ],
          [
           "Biscoe",
           41.1
          ],
          [
           "Biscoe",
           41.6
          ],
          [
           "Biscoe",
           41.1
          ],
          [
           "Torgersen",
           41.8
          ],
          [
           "Torgersen",
           39.7
          ],
          [
           "Torgersen",
           45.8
          ],
          [
           "Torgersen",
           42.8
          ],
          [
           "Torgersen",
           37.2
          ],
          [
           "Torgersen",
           42.1
          ],
          [
           "Torgersen",
           42.9
          ],
          [
           "Torgersen",
           35.1
          ],
          [
           "Dream",
           41.3
          ],
          [
           "Dream",
           36.3
          ],
          [
           "Dream",
           38.3
          ],
          [
           "Dream",
           41.1
          ],
          [
           "Dream",
           39.6
          ],
          [
           "Dream",
           40.8
          ],
          [
           "Dream",
           40.3
          ],
          [
           "Dream",
           43.2
          ],
          [
           "Biscoe",
           41
          ],
          [
           "Biscoe",
           37.8
          ],
          [
           "Biscoe",
           39.7
          ],
          [
           "Biscoe",
           38.2
          ],
          [
           "Biscoe",
           43.2
          ],
          [
           "Biscoe",
           45.6
          ],
          [
           "Biscoe",
           42.2
          ],
          [
           "Biscoe",
           42.7
          ],
          [
           "Torgersen",
           37.3
          ],
          [
           "Torgersen",
           41.1
          ],
          [
           "Torgersen",
           37.7
          ],
          [
           "Torgersen",
           41.4
          ],
          [
           "Torgersen",
           40.6
          ],
          [
           "Torgersen",
           41.5
          ],
          [
           "Torgersen",
           44.1
          ],
          [
           "Torgersen",
           43.1
          ],
          [
           "Dream",
           37.5
          ],
          [
           "Dream",
           41.1
          ],
          [
           "Dream",
           40.2
          ],
          [
           "Dream",
           39.7
          ],
          [
           "Dream",
           40.6
          ],
          [
           "Dream",
           40.7
          ],
          [
           "Dream",
           39
          ],
          [
           "Dream",
           39.2
          ],
          [
           "Dream",
           37.8
          ],
          [
           "Dream",
           41.5
          ]
         ],
         "hovertemplate": "species=Adelie<br>sex=Male<br>flipper_length_mm=%{x}<br>body_mass_g=%{y}<br>bill_depth_mm=%{marker.size}<br>island=%{customdata[0]}<br>bill_length_mm=%{customdata[1]}<extra></extra>",
         "legendgroup": "Adelie, Male",
         "marker": {
          "color": "#636efa",
          "size": {
           "bdata": "MzMzMzOzMkCamZmZmZk0QJqZmZmZmTNAMzMzMzMzNUCamZmZmRk1QDMzMzMzszRAAAAAAACANUAzMzMzM7MyQJqZmZmZGTJAMzMzMzMzMUCamZmZmZkyQGZmZmZm5jJAmpmZmZkZMkBmZmZmZuYyQJqZmZmZGTVAAAAAAAAANECamZmZmRkzQGZmZmZmZjJAMzMzMzOzM0DNzMzMzMwyQAAAAAAAADNAMzMzMzMzNUBmZmZmZuYyQAAAAAAAgDNAmpmZmZmZMkDNzMzMzMwyQJqZmZmZGTNAmpmZmZkZNUAzMzMzMzMyQAAAAAAAADJAmpmZmZkZM0BmZmZmZmYzQGZmZmZmZjJAZmZmZmbmMkAAAAAAAIAyQGZmZmZmZjNAmpmZmZkZM0CamZmZmZkxQGZmZmZmZjNAzczMzMxMNEAAAAAAAIAzQDMzMzMzMzNAmpmZmZkZMkCamZmZmRkyQGZmZmZm5jJAAAAAAACAMkAAAAAAAIAyQAAAAAAAADRAAAAAAAAANEBmZmZmZuYyQAAAAAAAADRAAAAAAAAAM0DNzMzMzEw0QAAAAAAAgDNAzczMzMxMMkAAAAAAAIA0QJqZmZmZmTJAzczMzMzMM0AAAAAAAIAyQAAAAAAAADNAzczMzMxMMkAAAAAAAAAyQDMzMzMzMzNAAAAAAACAMkAAAAAAAIAxQJqZmZmZGTRAZmZmZmbmMUAzMzMzMzMxQAAAAAAAADFAMzMzMzOzMkCamZmZmZkyQJqZmZmZGTJAAAAAAACAMkA=",
           "dtype": "f8"
          },
          "sizemode": "area",
          "sizeref": 0.05375,
          "symbol": "circle"
         },
         "mode": "markers",
         "name": "Adelie, Male",
         "orientation": "v",
         "showlegend": true,
         "type": "scatter",
         "x": {
          "bdata": "AAAAAACgZkAAAAAAAMBnQAAAAAAAYGhAAAAAAADgZ0AAAAAAAMBoQAAAAAAAoGhAAAAAAABAaEAAAAAAAIBmQAAAAAAAIGdAAAAAAACAZkAAAAAAAOBmQAAAAAAAgGZAAAAAAABAZkAAAAAAAABnQAAAAAAAgGhAAAAAAADAZ0AAAAAAAABnQAAAAAAAYGhAAAAAAACAaEAAAAAAAMBnQAAAAAAAwGZAAAAAAADgZ0AAAAAAAIBnQAAAAAAAAGlAAAAAAADgZ0AAAAAAACBoQAAAAAAAQGhAAAAAAABgaEAAAAAAAABoQAAAAAAAAGhAAAAAAACAZ0AAAAAAAMBoQAAAAAAAwGdAAAAAAACgaEAAAAAAAGBoQAAAAAAAAGdAAAAAAABgaEAAAAAAAIBoQAAAAAAAIGhAAAAAAABAaEAAAAAAAMBnQAAAAAAAoGdAAAAAAACgaUAAAAAAAEBnQAAAAAAAAGpAAAAAAACAaEAAAAAAAABoQAAAAAAAYGlAAAAAAADAZ0AAAAAAAABnQAAAAAAAwGdAAAAAAACgaEAAAAAAAOBnQAAAAAAAoGhAAAAAAACAaEAAAAAAAOBoQAAAAAAAoGdAAAAAAADAaEAAAAAAAEBpQAAAAAAA4GhAAAAAAABgaEAAAAAAAEBqQAAAAAAAoGhAAAAAAADgaEAAAAAAAMBnQAAAAAAAAGlAAAAAAAAgaEAAAAAAAGBnQAAAAAAAwGdAAAAAAAAgZ0AAAAAAAMBnQAAAAAAAIGhAAAAAAAAgaUA=",
          "dtype": "f8"
         },
         "xaxis": "x",
         "y": {
          "bdata": "AAAAAABMrUAAAAAAAISsQAAAAAAAQ7JAAAAAAACwrUAAAAAAADCxQAAAAAAAlLFAAAAAAABosEAAAAAAACCsQAAAAAAA3K5AAAAAAACwrUAAAAAAALyrQAAAAAAA3K5AAAAAAAB4rkAAAAAAAHiuQAAAAAAANrBAAAAAAADcrkAAAAAAACqyQAAAAAAAeK5AAAAAAAAwsUAAAAAAAPixQAAAAAAAwqpAAAAAAAA2sEAAAAAAAMywQAAAAAAApK9AAAAAAADorEAAAAAAALCtQAAAAAAATK1AAAAAAAAwsUAAAAAAAKSvQAAAAAAA3K5AAAAAAAAEsEAAAAAAAGKxQAAAAAAAeK5AAAAAAAA2sEAAAAAAAJqwQAAAAAAAeK5AAAAAAABAr0AAAAAAAFyyQAAAAAAAaLBAAAAAAAC8q0AAAAAAALCtQAAAAAAA3K5AAAAAAADMsEAAAAAAAGKxQAAAAAAAzLBAAAAAAAD+sEAAAAAAAASwQAAAAAAAdbJAAAAAAACasEAAAAAAALyrQAAAAAAAeK5AAAAAAACnskAAAAAAAPixQAAAAAAAs7BAAAAAAADWr0AAAAAAAH6tQAAAAAAA+qlAAAAAAABYq0AAAAAAAEauQAAAAAAAQK9AAAAAAADMsEAAAAAAAECvQAAAAAAAWKtAAAAAAAB7sUAAAAAAAHiuQAAAAAAADq9AAAAAAACasEAAAAAAACarQAAAAAAAGq1AAAAAAACErEAAAAAAAJqwQAAAAAAATK1AAAAAAABAr0A=",
          "dtype": "f8"
         },
         "yaxis": "y"
        },
        {
         "customdata": [
          [
           "Torgersen",
           39.5
          ],
          [
           "Torgersen",
           40.3
          ],
          [
           "Torgersen",
           36.7
          ],
          [
           "Torgersen",
           38.9
          ],
          [
           "Torgersen",
           41.1
          ],
          [
           "Torgersen",
           36.6
          ],
          [
           "Torgersen",
           38.7
          ],
          [
           "Torgersen",
           34.4
          ],
          [
           "Biscoe",
           37.8
          ],
          [
           "Biscoe",
           35.9
          ],
          [
           "Biscoe",
           35.3
          ],
          [
           "Biscoe",
           40.5
          ],
          [
           "Biscoe",
           37.9
          ],
          [
           "Dream",
           39.5
          ],
          [
           "Dream",
           39.5
          ],
          [
           "Dream",
           36.4
          ],
          [
           "Dream",
           42.2
          ],
          [
           "Dream",
           37.6
          ],
          [
           "Dream",
           36.5
          ],
          [
           "Dream",
           36
          ],
          [
           "Dream",
           37
          ],
          [
           "Dream",
           36
          ],
          [
           "Biscoe",
           39.6
          ],
          [
           "Biscoe",
           35
          ],
          [
           "Biscoe",
           34.5
          ],
          [
           "Biscoe",
           39
          ],
          [
           "Biscoe",
           36.5
          ],
          [
           "Biscoe",
           35.7
          ],
          [
           "Biscoe",
           37.6
          ],
          [
           "Biscoe",
           36.4
          ],
          [
           "Biscoe",
           35.5
          ],
          [
           "Torgersen",
           35.9
          ],
          [
           "Torgersen",
           33.5
          ],
          [
           "Torgersen",
           39.6
          ],
          [
           "Torgersen",
           35.5
          ],
          [
           "Torgersen",
           40.9
          ],
          [
           "Torgersen",
           36.2
          ],
          [
           "Torgersen",
           34.6
          ],
          [
           "Torgersen",
           36.7
          ],
          [
           "Dream",
           37.3
          ],
          [
           "Dream",
           36.9
          ],
          [
           "Dream",
           38.9
          ],
          [
           "Dream",
           35.7
          ],
          [
           "Dream",
           34
          ],
          [
           "Dream",
           36.2
          ],
          [
           "Dream",
           38.1
          ],
          [
           "Dream",
           33.1
          ],
          [
           "Biscoe",
           35
          ],
          [
           "Biscoe",
           37.7
          ],
          [
           "Biscoe",
           37.9
          ],
          [
           "Biscoe",
           38.6
          ],
          [
           "Biscoe",
           38.1
          ],
          [
           "Biscoe",
           38.1
          ],
          [
           "Biscoe",
           39.7
          ],
          [
           "Biscoe",
           39.6
          ],
          [
           "Torgersen",
           38.6
          ],
          [
           "Torgersen",
           35.7
          ],
          [
           "Torgersen",
           36.2
          ],
          [
           "Torgersen",
           40.2
          ],
          [
           "Torgersen",
           35.2
          ],
          [
           "Torgersen",
           38.8
          ],
          [
           "Torgersen",
           39
          ],
          [
           "Torgersen",
           38.5
          ],
          [
           "Dream",
           36.8
          ],
          [
           "Dream",
           38.1
          ],
          [
           "Dream",
           35.6
          ],
          [
           "Dream",
           37
          ],
          [
           "Dream",
           40.2
          ],
          [
           "Dream",
           32.1
          ],
          [
           "Dream",
           37.3
          ],
          [
           "Dream",
           36.6
          ],
          [
           "Dream",
           36
          ],
          [
           "Dream",
           36
          ]
         ],
         "hovertemplate": "species=Adelie<br>sex=Female<br>flipper_length_mm=%{x}<br>body_mass_g=%{y}<br>bill_depth_mm=%{marker.size}<br>island=%{customdata[0]}<br>bill_length_mm=%{customdata[1]}<extra></extra>",
         "legendgroup": "Adelie, Female",
         "marker": {
          "color": "#636efa",
          "size": {
           "bdata": "ZmZmZmZmMUAAAAAAAAAyQM3MzMzMTDNAzczMzMzMMUCamZmZmZkxQM3MzMzMzDFAAAAAAAAAM0BmZmZmZmYyQM3MzMzMTDJAMzMzMzMzM0BmZmZmZuYyQGZmZmZm5jFAmpmZmZmZMkAzMzMzM7MwQM3MzMzMzDFAAAAAAAAAMUAAAAAAAIAyQM3MzMzMTDNAAAAAAAAAMkAAAAAAAIAyQGZmZmZm5jBAZmZmZmbmMUAzMzMzM7MxQGZmZmZm5jFAmpmZmZkZMkAAAAAAAIAxQJqZmZmZmTBAZmZmZmbmMEAAAAAAAAAxQJqZmZmZGTFAMzMzMzMzMECamZmZmZkwQAAAAAAAADNAMzMzMzMzMUAAAAAAAIAxQM3MzMzMzDBAmpmZmZkZMEAzMzMzMzMxQM3MzMzMzDJAzczMzMzMMUCamZmZmZkyQM3MzMzMzDJAAAAAAAAAMkCamZmZmRkxQM3MzMzMTDFAmpmZmZmZMkCamZmZmRkwQGZmZmZm5jFAAAAAAAAAMECamZmZmZkyQDMzMzMzMzFAAAAAAAAAMUAAAAAAAIAwQDMzMzMzszFAMzMzMzOzNEAAAAAAAAAxQAAAAAAAADFAMzMzMzMzMUAAAAAAAAAxQM3MzMzMzC9AmpmZmZmZMUCamZmZmRkxQGZmZmZm5jFAAAAAAACAMkCamZmZmZkxQAAAAAAAgDFAAAAAAACAMECamZmZmRkxQAAAAAAAAC9AzczMzMzMMEBmZmZmZmYyQM3MzMzMzDFAmpmZmZkZMUA=",
           "dtype": "f8"
          },
          "sizemode": "area",
          "sizeref": 0.05375,
          "symbol": "diamond"
         },
         "mode": "markers",
         "name": "Adelie, Female",
         "orientation": "v",
         "showlegend": true,
         "type": "scatter",
         "x": {
          "bdata": "AAAAAABAZ0AAAAAAAGBoQAAAAAAAIGhAAAAAAACgZkAAAAAAAMBmQAAAAAAAIGdAAAAAAABgaEAAAAAAAABnQAAAAAAAwGVAAAAAAACgZ0AAAAAAAGBnQAAAAAAAYGdAAAAAAACAZUAAAAAAAEBmQAAAAAAAgGdAAAAAAABgaEAAAAAAAIBmQAAAAAAAoGZAAAAAAADAZkAAAAAAAEBnQAAAAAAAIGdAAAAAAADAZ0AAAAAAAEBnQAAAAAAAwGdAAAAAAABgZ0AAAAAAAEBnQAAAAAAAoGZAAAAAAAAgZ0AAAAAAACBnQAAAAAAAAGdAAAAAAABgaEAAAAAAAMBnQAAAAAAAwGdAAAAAAACAaEAAAAAAAMBnQAAAAAAA4GdAAAAAAABgZ0AAAAAAAKBnQAAAAAAAYGdAAAAAAADgZ0AAAAAAAKBnQAAAAAAAwGdAAAAAAABAaUAAAAAAACBnQAAAAAAAYGdAAAAAAADAZ0AAAAAAAEBmQAAAAAAAAGhAAAAAAADgZkAAAAAAACBoQAAAAAAA4GhAAAAAAACgZkAAAAAAAMBoQAAAAAAAIGhAAAAAAADgZ0AAAAAAAIBnQAAAAAAAoGdAAAAAAABgZ0AAAAAAAABmQAAAAAAAQGdAAAAAAADgZ0AAAAAAAOBnQAAAAAAAwGdAAAAAAAAgaEAAAAAAAGBnQAAAAAAA4GdAAAAAAAAgZ0AAAAAAACBoQAAAAAAAgGdAAAAAAAAAaEAAAAAAAABnQAAAAAAAYGhAAAAAAABgZ0A=",
          "dtype": "f8"
         },
         "xaxis": "x",
         "y": {
          "bdata": "AAAAAACwrUAAAAAAAGSpQAAAAAAA9KpAAAAAAABSrEAAAAAAAACpQAAAAAAA6KxAAAAAAAD0qkAAAAAAAPqpQAAAAAAAkKpAAAAAAACwrUAAAAAAALCtQAAAAAAAAKlAAAAAAACcqEAAAAAAAGSpQAAAAAAAyKlAAAAAAAD6qUAAAAAAALyrQAAAAAAAyKlAAAAAAACcqEAAAAAAADioQAAAAAAAcKdAAAAAAAD0qkAAAAAAAFirQAAAAAAA9KpAAAAAAACopkAAAAAAALyrQAAAAAAARKZAAAAAAACcqEAAAAAAACCsQAAAAAAARKZAAAAAAAAsqkAAAAAAANSnQAAAAAAAIKxAAAAAAAC8q0AAAAAAAOisQAAAAAAA6KxAAAAAAAC8q0AAAAAAAACpQAAAAAAAsK1AAAAAAAAsqkAAAAAAAFirQAAAAAAAIKxAAAAAAAC8q0AAAAAAAJCqQAAAAAAAyKlAAAAAAADorEAAAAAAAKimQAAAAAAAGq1AAAAAAAAGqEAAAAAAANqmQAAAAAAATK1AAAAAAADOqEAAAAAAAOKtQAAAAAAAAKlAAAAAAAB4rkAAAAAAAKimQAAAAAAALKpAAAAAAACcqEAAAAAAAPSqQAAAAAAA1KdAAAAAAACWqUAAAAAAANSnQAAAAAAA+qlAAAAAAABYq0AAAAAAAMKqQAAAAAAAzqhAAAAAAACQqkAAAAAAAJCqQAAAAAAA1KdAAAAAAABwp0AAAAAAACarQAAAAAAA9KpAAAAAAADorEA=",
          "dtype": "f8"
         },
         "yaxis": "y"
        },
        {
         "customdata": [
          [
           "Dream",
           50
          ],
          [
           "Dream",
           51.3
          ],
          [
           "Dream",
           52.7
          ],
          [
           "Dream",
           51.3
          ],
          [
           "Dream",
           51.3
          ],
          [
           "Dream",
           51.7
          ],
          [
           "Dream",
           52
          ],
          [
           "Dream",
           50.5
          ],
          [
           "Dream",
           50.3
          ],
          [
           "Dream",
           49.2
          ],
          [
           "Dream",
           48.5
          ],
          [
           "Dream",
           50.6
          ],
          [
           "Dream",
           52
          ],
          [
           "Dream",
           49.5
          ],
          [
           "Dream",
           52.8
          ],
          [
           "Dream",
           54.2
          ],
          [
           "Dream",
           51
          ],
          [
           "Dream",
           49.7
          ],
          [
           "Dream",
           52
          ],
          [
           "Dream",
           53.5
          ],
          [
           "Dream",
           49
          ],
          [
           "Dream",
           50.9
          ],
          [
           "Dream",
           50.8
          ],
          [
           "Dream",
           49
          ],
          [
           "Dream",
           51.5
          ],
          [
           "Dream",
           51.4
          ],
          [
           "Dream",
           50.7
          ],
          [
           "Dream",
           52.2
          ],
          [
           "Dream",
           49.3
          ],
          [
           "Dream",
           50.2
          ],
          [
           "Dream",
           51.9
          ],
          [
           "Dream",
           55.8
          ],
          [
           "Dream",
           49.6
          ],
          [
           "Dream",
           50.8
          ]
         ],
         "hovertemplate": "species=Chinstrap<br>sex=Male<br>flipper_length_mm=%{x}<br>body_mass_g=%{y}<br>bill_depth_mm=%{marker.size}<br>island=%{customdata[0]}<br>bill_length_mm=%{customdata[1]}<extra></extra>",
         "legendgroup": "Chinstrap, Male",
         "marker": {
          "color": "#EF553B",
          "size": {
           "bdata": "AAAAAACAM0AzMzMzMzMzQM3MzMzMzDNAMzMzMzMzMkBmZmZmZuYzQM3MzMzMTDRAmpmZmZkZMkCamZmZmZkzQAAAAAAAADRAMzMzMzMzMkAAAAAAAIAxQGZmZmZmZjNAAAAAAAAAM0AAAAAAAAAzQAAAAAAAADRAzczMzMzMNEDNzMzMzMwyQJqZmZmZmTJAMzMzMzOzNEBmZmZmZuYzQAAAAAAAgDNAmpmZmZkZM0AAAAAAAIAyQJqZmZmZmTNAMzMzMzOzMkAAAAAAAAAzQDMzMzMzszNAzczMzMzMMkBmZmZmZuYzQM3MzMzMzDJAAAAAAACAM0DNzMzMzMwzQDMzMzMzMzJAAAAAAAAAM0A=",
           "dtype": "f8"
          },
          "sizemode": "area",
          "sizeref": 0.05375,
          "symbol": "circle"
         },
         "mode": "markers",
         "name": "Chinstrap, Male",
         "orientation": "v",
         "showlegend": true,
         "type": "scatter",
         "x": {
          "bdata": "AAAAAACAaEAAAAAAACBoQAAAAAAAoGhAAAAAAACgaEAAAAAAAMBoQAAAAAAAQGhAAAAAAAAgaUAAAAAAACBpQAAAAAAAoGhAAAAAAABgaEAAAAAAAOBnQAAAAAAAIGhAAAAAAACgaEAAAAAAAABpQAAAAAAAoGlAAAAAAAAgaUAAAAAAAGBpQAAAAAAAYGhAAAAAAABAakAAAAAAAKBpQAAAAAAAQGpAAAAAAACAaEAAAAAAACBpQAAAAAAAgGpAAAAAAABgZ0AAAAAAACBpQAAAAAAAYGlAAAAAAACgaEAAAAAAAGBpQAAAAAAAQGlAAAAAAADAaUAAAAAAAOBpQAAAAAAAIGhAAAAAAABAakA=",
          "dtype": "f8"
         },
         "xaxis": "x",
         "y": {
          "bdata": "AAAAAAB4rkAAAAAAAISsQAAAAAAAGq1AAAAAAABMrUAAAAAAAOisQAAAAAAAfq1AAAAAAACkr0AAAAAAAKSvQAAAAAAAyKlAAAAAAAAwsUAAAAAAAJCqQAAAAAAAsK1AAAAAAAA2sEAAAAAAALCtQAAAAAAAxrFAAAAAAADMsEAAAAAAAASwQAAAAAAAIKxAAAAAAADAskAAAAAAAJSxQAAAAAAA3K5AAAAAAAC8q0AAAAAAAGKxQAAAAAAAzLBAAAAAAABkqUAAAAAAANyuQAAAAAAApK9AAAAAAAD0qkAAAAAAAKSvQAAAAAAAsK1AAAAAAADcrkAAAAAAAECvQAAAAAAAfq1AAAAAAAAEsEA=",
          "dtype": "f8"
         },
         "yaxis": "y"
        },
        {
         "customdata": [
          [
           "Dream",
           46.5
          ],
          [
           "Dream",
           45.4
          ],
          [
           "Dream",
           45.2
          ],
          [
           "Dream",
           46.1
          ],
          [
           "Dream",
           46
          ],
          [
           "Dream",
           46.6
          ],
          [
           "Dream",
           47
          ],
          [
           "Dream",
           45.9
          ],
          [
           "Dream",
           58
          ],
          [
           "Dream",
           46.4
          ],
          [
           "Dream",
           42.4
          ],
          [
           "Dream",
           43.2
          ],
          [
           "Dream",
           46.7
          ],
          [
           "Dream",
           50.5
          ],
          [
           "Dream",
           46.4
          ],
          [
           "Dream",
           40.9
          ],
          [
           "Dream",
           42.5
          ],
          [
           "Dream",
           47.5
          ],
          [
           "Dream",
           47.6
          ],
          [
           "Dream",
           46.9
          ],
          [
           "Dream",
           46.2
          ],
          [
           "Dream",
           45.5
          ],
          [
           "Dream",
           50.9
          ],
          [
           "Dream",
           50.1
          ],
          [
           "Dream",
           49.8
          ],
          [
           "Dream",
           48.1
          ],
          [
           "Dream",
           45.7
          ],
          [
           "Dream",
           42.5
          ],
          [
           "Dream",
           45.2
          ],
          [
           "Dream",
           45.6
          ],
          [
           "Dream",
           46.8
          ],
          [
           "Dream",
           45.7
          ],
          [
           "Dream",
           43.5
          ],
          [
           "Dream",
           50.2
          ]
         ],
         "hovertemplate": "species=Chinstrap<br>sex=Female<br>flipper_length_mm=%{x}<br>body_mass_g=%{y}<br>bill_depth_mm=%{marker.size}<br>island=%{customdata[0]}<br>bill_length_mm=%{customdata[1]}<extra></extra>",
         "legendgroup": "Chinstrap, Female",
         "marker": {
          "color": "#EF553B",
          "size": {
           "bdata": "ZmZmZmbmMUAzMzMzM7MyQM3MzMzMzDFAMzMzMzMzMkBmZmZmZuYyQM3MzMzMzDFAzczMzMxMMUCamZmZmRkxQM3MzMzMzDFAmpmZmZmZMkDNzMzMzEwxQJqZmZmZmTBAZmZmZmbmMUBmZmZmZmYyQM3MzMzMzDFAmpmZmZmZMEAzMzMzM7MwQM3MzMzMzDBAzczMzMxMMkCamZmZmZkwQAAAAAAAgDFAAAAAAAAAMUBmZmZmZuYxQGZmZmZm5jFAzczMzMxMMUBmZmZmZmYwQM3MzMzMTDFAzczMzMxMMUCamZmZmZkwQGZmZmZmZjNAAAAAAACAMEAAAAAAAAAxQJqZmZmZGTJAMzMzMzOzMkA=",
           "dtype": "f8"
          },
          "sizemode": "area",
          "sizeref": 0.05375,
          "symbol": "diamond"
         },
         "mode": "markers",
         "name": "Chinstrap, Female",
         "orientation": "v",
         "showlegend": true,
         "type": "scatter",
         "x": {
          "bdata": "AAAAAAAAaEAAAAAAAIBnQAAAAAAAwGhAAAAAAABAZkAAAAAAAGBoQAAAAAAAIGhAAAAAAAAgZ0AAAAAAAMBnQAAAAAAAoGZAAAAAAADAZ0AAAAAAAKBmQAAAAAAAYGdAAAAAAABgaEAAAAAAAABpQAAAAAAA4GdAAAAAAABgZ0AAAAAAAGBnQAAAAAAA4GhAAAAAAABgaEAAAAAAAABoQAAAAAAAYGdAAAAAAACAaEAAAAAAAIBoQAAAAAAAwGdAAAAAAADAaEAAAAAAAOBoQAAAAAAAIGhAAAAAAABgZ0AAAAAAAOBnQAAAAAAAQGhAAAAAAACgZ0AAAAAAAGBoQAAAAAAAQGlAAAAAAADAaEA=",
          "dtype": "f8"
         },
         "xaxis": "x",
         "y": {
          "bdata": "AAAAAABYq0AAAAAAAIqrQAAAAAAA3K5AAAAAAABkqUAAAAAAADawQAAAAAAAsK1AAAAAAADorEAAAAAAAO6rQAAAAAAA6KxAAAAAAAD0qkAAAAAAACCsQAAAAAAAqKZAAAAAAADIqUAAAAAAAJCqQAAAAAAA6KxAAAAAAAAAqUAAAAAAACyqQAAAAAAAeK5AAAAAAAAUrkAAAAAAABilQAAAAAAAhKxAAAAAAABYq0AAAAAAALasQAAAAAAAkKpAAAAAAAC2rEAAAAAAAPqpQAAAAAAAIKxAAAAAAAAsqkAAAAAAAGSpQAAAAAAAiqtAAAAAAACErEAAAAAAAISsQAAAAAAAkKpAAAAAAAB+rUA=",
          "dtype": "f8"
         },
         "yaxis": "y"
        },
        {
         "customdata": [
          [
           "Biscoe",
           50
          ],
          [
           "Biscoe",
           50
          ],
          [
           "Biscoe",
           47.6
          ],
          [
           "Biscoe",
           46.7
          ],
          [
           "Biscoe",
           46.8
          ],
          [
           "Biscoe",
           49
          ],
          [
           "Biscoe",
           48.4
          ],
          [
           "Biscoe",
           49.3
          ],
          [
           "Biscoe",
           49.2
          ],
          [
           "Biscoe",
           48.7
          ],
          [
           "Biscoe",
           50.2
          ],
          [
           "Biscoe",
           46.3
          ],
          [
           "Biscoe",
           46.1
          ],
          [
           "Biscoe",
           47.8
          ],
          [
           "Biscoe",
           50
          ],
          [
           "Biscoe",
           47.3
          ],
          [
           "Biscoe",
           59.6
          ],
          [
           "Biscoe",
           48.4
          ],
          [
           "Biscoe",
           44.4
          ],
          [
           "Biscoe",
           48.7
          ],
          [
           "Biscoe",
           49.6
          ],
          [
           "Biscoe",
           49.6
          ],
          [
           "Biscoe",
           50.5
          ],
          [
           "Biscoe",
           50.5
          ],
          [
           "Biscoe",
           45.2
          ],
          [
           "Biscoe",
           48.5
          ],
          [
           "Biscoe",
           50.1
          ],
          [
           "Biscoe",
           45
          ],
          [
           "Biscoe",
           45.5
          ],
          [
           "Biscoe",
           50.4
          ],
          [
           "Biscoe",
           46.2
          ],
          [
           "Biscoe",
           54.3
          ],
          [
           "Biscoe",
           49.8
          ],
          [
           "Biscoe",
           49.5
          ],
          [
           "Biscoe",
           50.7
          ],
          [
           "Biscoe",
           46.4
          ],
          [
           "Biscoe",
           48.2
          ],
          [
           "Biscoe",
           48.6
          ],
          [
           "Biscoe",
           51.1
          ],
          [
           "Biscoe",
           45.2
          ],
          [
           "Biscoe",
           52.5
          ],
          [
           "Biscoe",
           50
          ],
          [
           "Biscoe",
           50.8
          ],
          [
           "Biscoe",
           51.3
          ],
          [
           "Biscoe",
           52.1
          ],
          [
           "Biscoe",
           52.2
          ],
          [
           "Biscoe",
           49.5
          ],
          [
           "Biscoe",
           50.8
          ],
          [
           "Biscoe",
           49.4
          ],
          [
           "Biscoe",
           51.1
          ],
          [
           "Biscoe",
           55.9
          ],
          [
           "Biscoe",
           49.1
          ],
          [
           "Biscoe",
           46.8
          ],
          [
           "Biscoe",
           53.4
          ],
          [
           "Biscoe",
           48.1
          ],
          [
           "Biscoe",
           49.8
          ],
          [
           "Biscoe",
           51.5
          ],
          [
           "Biscoe",
           55.1
          ],
          [
           "Biscoe",
           48.8
          ],
          [
           "Biscoe",
           50.4
          ],
          [
           "Biscoe",
           49.9
          ]
         ],
         "hovertemplate": "species=Gentoo<br>sex=Male<br>flipper_length_mm=%{x}<br>body_mass_g=%{y}<br>bill_depth_mm=%{marker.size}<br>island=%{customdata[0]}<br>bill_length_mm=%{customdata[1]}<extra></extra>",
         "legendgroup": "Gentoo, Male",
         "marker": {
          "color": "#00cc96",
          "size": {
           "bdata": "zczMzMxMMEBmZmZmZmYuQAAAAAAAAC1AmpmZmZmZLkDNzMzMzMwuQJqZmZmZGTBAMzMzMzMzLUBmZmZmZmYvQGZmZmZmZi5AMzMzMzMzLkCamZmZmZksQJqZmZmZmS9AMzMzMzMzLkAAAAAAAAAuQJqZmZmZmS5AmpmZmZmZLkAAAAAAAAAxQM3MzMzMTDBAzczMzMxMMUBmZmZmZmYvQAAAAAAAADBAAAAAAAAALkDNzMzMzMwvQM3MzMzMzC9AmpmZmZmZL0AzMzMzMzMsQAAAAAAAAC5AzczMzMzMLkAAAAAAAAAuQJqZmZmZmS5AzczMzMzMLUBmZmZmZmYvQM3MzMzMzDBAMzMzMzMzMEAAAAAAAAAuQDMzMzMzMy9AMzMzMzMzL0AAAAAAAAAwQM3MzMzMTDBAZmZmZmZmMEAzMzMzMzMvQM3MzMzMzC9AzczMzMxMMUBmZmZmZmYsQAAAAAAAADFAmpmZmZkZMUCamZmZmRkwQGZmZmZmZi9AmpmZmZmZL0AAAAAAAIAwQAAAAAAAADFAAAAAAAAALkCamZmZmRkwQJqZmZmZmS9AMzMzMzMzLkDNzMzMzMwvQM3MzMzMTDBAAAAAAAAAMEAzMzMzMzMwQGZmZmZmZi9AmpmZmZkZMEA=",
           "dtype": "f8"
          },
          "sizemode": "area",
          "sizeref": 0.05375,
          "symbol": "circle"
         },
         "mode": "markers",
         "name": "Gentoo, Male",
         "orientation": "v",
         "showlegend": true,
         "type": "scatter",
         "x": {
          "bdata": "AAAAAADAbEAAAAAAAEBrQAAAAAAA4GpAAAAAAABga0AAAAAAAOBqQAAAAAAAAGtAAAAAAACgakAAAAAAACBrQAAAAAAAoGtAAAAAAADAa0AAAAAAAEBrQAAAAAAA4GpAAAAAAADgakAAAAAAAOBqQAAAAAAAgGtAAAAAAADAa0AAAAAAAMBsQAAAAAAAgGtAAAAAAABga0AAAAAAAABqQAAAAAAAIGxAAAAAAAAAa0AAAAAAAMBrQAAAAAAAIGxAAAAAAADgakAAAAAAAIBrQAAAAAAAIGxAAAAAAACAa0AAAAAAAIBrQAAAAAAAAGxAAAAAAACga0AAAAAAAOBsQAAAAAAAwGxAAAAAAACgbEAAAAAAAOBrQAAAAAAAoGtAAAAAAACga0AAAAAAAMBsQAAAAAAAgGtAAAAAAADga0AAAAAAAKBrQAAAAAAAAGxAAAAAAACAbEAAAAAAAEBrQAAAAAAAwGxAAAAAAACAbEAAAAAAAABsQAAAAAAAQGxAAAAAAAAAa0AAAAAAACBsQAAAAAAAgGxAAAAAAACAbEAAAAAAAOBqQAAAAAAAYGtAAAAAAAAgakAAAAAAAKBsQAAAAAAAwGxAAAAAAADAbEAAAAAAAMBrQAAAAAAAwGtAAAAAAACgakA=",
          "dtype": "f8"
         },
         "xaxis": "x",
         "y": {
          "bdata": "AAAAAABEtkAAAAAAAES2QAAAAAAAGLVAAAAAAABQtEAAAAAAAB60QAAAAAAArrVAAAAAAADatkAAAAAAANq2QAAAAAAAnLhAAAAAAADmtEAAAAAAAES2QAAAAAAAurNAAAAAAADss0AAAAAAABK2QAAAAAAArrVAAAAAAACCtEAAAAAAAKK3QAAAAAAAGLVAAAAAAACCtEAAAAAAAOa0QAAAAAAARLZAAAAAAACOskAAAAAAAK61QAAAAAAAGLVAAAAAAAC0tEAAAAAAALS0QAAAAAAAiLNAAAAAAAC6s0AAAAAAAIizQAAAAAAArrVAAAAAAAC0tEAAAAAAABK2QAAAAAAARLZAAAAAAACotkAAAAAAAK61QAAAAAAAiLNAAAAAAADss0AAAAAAAKi2QAAAAAAAcLdAAAAAAAA+t0AAAAAAAEq1QAAAAAAA5rRAAAAAAADgtUAAAAAAALS0QAAAAAAArrVAAAAAAAAYtUAAAAAAABK2QAAAAAAAULRAAAAAAAA9s0AAAAAAAIK0QAAAAAAA4LVAAAAAAAB8tUAAAAAAAHy1QAAAAAAAfLVAAAAAAAB8tUAAAAAAAD63QAAAAAAAfLVAAAAAAADatkAAAAAAAHC3QAAAAAAAdrZAAAAAAAAYtUA=",
          "dtype": "f8"
         },
         "yaxis": "y"
        },
        {
         "customdata": [
          [
           "Biscoe",
           46.1
          ],
          [
           "Biscoe",
           48.7
          ],
          [
           "Biscoe",
           46.5
          ],
          [
           "Biscoe",
           45.4
          ],
          [
           "Biscoe",
           43.3
          ],
          [
           "Biscoe",
           40.9
          ],
          [
           "Biscoe",
           45.5
          ],
          [
           "Biscoe",
           45.8
          ],
          [
           "Biscoe",
           42
          ],
          [
           "Biscoe",
           46.2
          ],
          [
           "Biscoe",
           45.1
          ],
          [
           "Biscoe",
           46.5
          ],
          [
           "Biscoe",
           42.9
          ],
          [
           "Biscoe",
           48.2
          ],
          [
           "Biscoe",
           42.8
          ],
          [
           "Biscoe",
           45.1
          ],
          [
           "Biscoe",
           49.1
          ],
          [
           "Biscoe",
           42.6
          ],
          [
           "Biscoe",
           44
          ],
          [
           "Biscoe",
           42.7
          ],
          [
           "Biscoe",
           45.3
          ],
          [
           "Biscoe",
           43.6
          ],
          [
           "Biscoe",
           45.5
          ],
          [
           "Biscoe",
           44.9
          ],
          [
           "Biscoe",
           46.6
          ],
          [
           "Biscoe",
           45.1
          ],
          [
           "Biscoe",
           46.5
          ],
          [
           "Biscoe",
           43.8
          ],
          [
           "Biscoe",
           43.2
          ],
          [
           "Biscoe",
           45.3
          ],
          [
           "Biscoe",
           45.7
          ],
          [
           "Biscoe",
           45.8
          ],
          [
           "Biscoe",
           43.5
          ],
          [
           "Biscoe",
           47.7
          ],
          [
           "Biscoe",
           46.5
          ],
          [
           "Biscoe",
           46.4
          ],
          [
           "Biscoe",
           47.5
          ],
          [
           "Biscoe",
           45.2
          ],
          [
           "Biscoe",
           49.1
          ],
          [
           "Biscoe",
           47.4
          ],
          [
           "Biscoe",
           44.9
          ],
          [
           "Biscoe",
           43.4
          ],
          [
           "Biscoe",
           47.5
          ],
          [
           "Biscoe",
           47.5
          ],
          [
           "Biscoe",
           45.5
          ],
          [
           "Biscoe",
           44.5
          ],
          [
           "Biscoe",
           46.9
          ],
          [
           "Biscoe",
           48.4
          ],
          [
           "Biscoe",
           48.5
          ],
          [
           "Biscoe",
           47.2
          ],
          [
           "Biscoe",
           41.7
          ],
          [
           "Biscoe",
           43.3
          ],
          [
           "Biscoe",
           50.5
          ],
          [
           "Biscoe",
           43.5
          ],
          [
           "Biscoe",
           46.2
          ],
          [
           "Biscoe",
           47.2
          ],
          [
           "Biscoe",
           46.8
          ],
          [
           "Biscoe",
           45.2
          ]
         ],
         "hovertemplate": "species=Gentoo<br>sex=Female<br>flipper_length_mm=%{x}<br>body_mass_g=%{y}<br>bill_depth_mm=%{marker.size}<br>island=%{customdata[0]}<br>bill_length_mm=%{customdata[1]}<extra></extra>",
         "legendgroup": "Gentoo, Female",
         "marker": {
          "color": "#00cc96",
          "size": {
           "bdata": "ZmZmZmZmKkAzMzMzMzMsQAAAAAAAACtAMzMzMzMzLUDNzMzMzMwqQGZmZmZmZitAZmZmZmZmK0AzMzMzMzMtQAAAAAAAACtAAAAAAAAALUAAAAAAAAAtQAAAAAAAAC1AMzMzMzMzKkCamZmZmZksQGZmZmZmZixAAAAAAAAALUCamZmZmZktQGZmZmZmZitAMzMzMzMzK0BmZmZmZmYrQGZmZmZmZitAzczMzMzMK0DNzMzMzMwrQJqZmZmZmSpAZmZmZmZmLEDNzMzMzMwsQM3MzMzMzCxAzczMzMzMK0AAAAAAAAAtQJqZmZmZmStAzczMzMzMK0BmZmZmZmYsQGZmZmZmZixAAAAAAAAALkCamZmZmZktQAAAAAAAAC5AZmZmZmZmLECamZmZmZkrQAAAAAAAAC1AMzMzMzMzLUCamZmZmZkrQM3MzMzMzCxAAAAAAAAALEAAAAAAAAAuQAAAAAAAAC1AZmZmZmZmLUAzMzMzMzMtQM3MzMzMzCxAAAAAAAAALkAAAAAAAAAvQGZmZmZmZi1AAAAAAAAALEBmZmZmZmYuQGZmZmZmZi5AMzMzMzMzLEBmZmZmZmYrQJqZmZmZmSxAmpmZmZmZLUA=",
           "dtype": "f8"
          },
          "sizemode": "area",
          "sizeref": 0.05375,
          "symbol": "diamond"
         },
         "mode": "markers",
         "name": "Gentoo, Female",
         "orientation": "v",
         "showlegend": true,
         "type": "scatter",
         "x": {
          "bdata": "AAAAAABgakAAAAAAAEBqQAAAAAAAQGpAAAAAAABgakAAAAAAACBqQAAAAAAAwGpAAAAAAADAakAAAAAAAEBqQAAAAAAAQGpAAAAAAAAgakAAAAAAAOBqQAAAAAAAoGpAAAAAAADgakAAAAAAAEBqQAAAAAAAIGpAAAAAAADgaUAAAAAAAIBrQAAAAAAAoGpAAAAAAAAAakAAAAAAAABqQAAAAAAAQGpAAAAAAAAga0AAAAAAAEBqQAAAAAAAoGpAAAAAAABAakAAAAAAAEBqQAAAAAAAIGtAAAAAAAAAakAAAAAAAABqQAAAAAAAAGpAAAAAAADAakAAAAAAAGBrQAAAAAAAgGtAAAAAAAAAa0AAAAAAACBrQAAAAAAAAGtAAAAAAAAgakAAAAAAAOBqQAAAAAAAgGpAAAAAAACAakAAAAAAAIBqQAAAAAAAQGtAAAAAAACAakAAAAAAAEBrQAAAAAAAgGpAAAAAAADAakAAAAAAAMBrQAAAAAAAYGlAAAAAAABga0AAAAAAAOBqQAAAAAAAQGpAAAAAAAAAakAAAAAAAABrQAAAAAAAoGpAAAAAAAAga0AAAAAAAMBqQAAAAAAA4GpAAAAAAACAakA=",
          "dtype": "f8"
         },
         "xaxis": "x",
         "y": {
          "bdata": "AAAAAACUsUAAAAAAAGKxQAAAAAAAxrFAAAAAAADAskAAAAAAADCxQAAAAAAAKrJAAAAAAAAqskAAAAAAAGiwQAAAAAAANrBAAAAAAADAskAAAAAAAIizQAAAAAAAMLFAAAAAAACIs0AAAAAAAPixQAAAAAAAXLJAAAAAAAC6s0AAAAAAAB60QAAAAAAAVrNAAAAAAAD+sEAAAAAAANyuQAAAAAAAzLBAAAAAAAAks0AAAAAAAGiwQAAAAAAA7LNAAAAAAADyskAAAAAAADCxQAAAAAAAJLNAAAAAAADMsEAAAAAAAGKxQAAAAAAAaLBAAAAAAAAwsUAAAAAAAFyyQAAAAAAAXLJAAAAAAACOskAAAAAAAFC0QAAAAAAAXLJAAAAAAAD4sUAAAAAAAI6yQAAAAAAAEbJAAAAAAAB1skAAAAAAAI6yQAAAAAAA+LFAAAAAAAALs0AAAAAAAFazQAAAAAAAjrJAAAAAAADyskAAAAAAAAuzQAAAAAAAEbJAAAAAAADyskAAAAAAAG+zQAAAAAAAXLJAAAAAAADfsUAAAAAAAIizQAAAAAAAKrJAAAAAAAAXsUAAAAAAAD2zQAAAAAAA8rJAAAAAAABQtEA=",
          "dtype": "f8"
         },
         "yaxis": "y"
        }
       ],
       "layout": {
        "legend": {
         "itemsizing": "constant",
         "title": {
          "text": "species, sex"
         },
         "tracegroupgap": 0
        },
        "template": {
         "data": {
          "bar": [
           {
            "error_x": {
             "color": "#2a3f5f"
            },
            "error_y": {
             "color": "#2a3f5f"
            },
            "marker": {
             "line": {
              "color": "#E5ECF6",
              "width": 0.5
             },
             "pattern": {
              "fillmode": "overlay",
              "size": 10,
              "solidity": 0.2
             }
            },
            "type": "bar"
           }
          ],
          "barpolar": [
           {
            "marker": {
             "line": {
              "color": "#E5ECF6",
              "width": 0.5
             },
             "pattern": {
              "fillmode": "overlay",
              "size": 10,
              "solidity": 0.2
             }
            },
            "type": "barpolar"
           }
          ],
          "carpet": [
           {
            "aaxis": {
             "endlinecolor": "#2a3f5f",
             "gridcolor": "white",
             "linecolor": "white",
             "minorgridcolor": "white",
             "startlinecolor": "#2a3f5f"
            },
            "baxis": {
             "endlinecolor": "#2a3f5f",
             "gridcolor": "white",
             "linecolor": "white",
             "minorgridcolor": "white",
             "startlinecolor": "#2a3f5f"
            },
            "type": "carpet"
           }
          ],
          "choropleth": [
           {
            "colorbar": {
             "outlinewidth": 0,
             "ticks": ""
            },
            "type": "choropleth"
           }
          ],
          "contour": [
           {
            "colorbar": {
             "outlinewidth": 0,
             "ticks": ""
            },
            "colorscale": [
             [
              0,
              "#0d0887"
             ],
             [
              0.1111111111111111,
              "#46039f"
             ],
             [
              0.2222222222222222,
              "#7201a8"
             ],
             [
              0.3333333333333333,
              "#9c179e"
             ],
             [
              0.4444444444444444,
              "#bd3786"
             ],
             [
              0.5555555555555556,
              "#d8576b"
             ],
             [
              0.6666666666666666,
              "#ed7953"
             ],
             [
              0.7777777777777778,
              "#fb9f3a"
             ],
             [
              0.8888888888888888,
              "#fdca26"
             ],
             [
              1,
              "#f0f921"
             ]
            ],
            "type": "contour"
           }
          ],
          "contourcarpet": [
           {
            "colorbar": {
             "outlinewidth": 0,
             "ticks": ""
            },
            "type": "contourcarpet"
           }
          ],
          "heatmap": [
           {
            "colorbar": {
             "outlinewidth": 0,
             "ticks": ""
            },
            "colorscale": [
             [
              0,
              "#0d0887"
             ],
             [
              0.1111111111111111,
              "#46039f"
             ],
             [
              0.2222222222222222,
              "#7201a8"
             ],
             [
              0.3333333333333333,
              "#9c179e"
             ],
             [
              0.4444444444444444,
              "#bd3786"
             ],
             [
              0.5555555555555556,
              "#d8576b"
             ],
             [
              0.6666666666666666,
              "#ed7953"
             ],
             [
              0.7777777777777778,
              "#fb9f3a"
             ],
             [
              0.8888888888888888,
              "#fdca26"
             ],
             [
              1,
              "#f0f921"
             ]
            ],
            "type": "heatmap"
           }
          ],
          "histogram": [
           {
            "marker": {
             "pattern": {
              "fillmode": "overlay",
              "size": 10,
              "solidity": 0.2
             }
            },
            "type": "histogram"
           }
          ],
          "histogram2d": [
           {
            "colorbar": {
             "outlinewidth": 0,
             "ticks": ""
            },
            "colorscale": [
             [
              0,
              "#0d0887"
             ],
             [
              0.1111111111111111,
              "#46039f"
             ],
             [
              0.2222222222222222,
              "#7201a8"
             ],
             [
              0.3333333333333333,
              "#9c179e"
             ],
             [
              0.4444444444444444,
              "#bd3786"
             ],
             [
              0.5555555555555556,
              "#d8576b"
             ],
             [
              0.6666666666666666,
              "#ed7953"
             ],
             [
              0.7777777777777778,
              "#fb9f3a"
             ],
             [
              0.8888888888888888,
              "#fdca26"
             ],
             [
              1,
              "#f0f921"
             ]
            ],
            "type": "histogram2d"
           }
          ],
          "histogram2dcontour": [
           {
            "colorbar": {
             "outlinewidth": 0,
             "ticks": ""
            },
            "colorscale": [
             [
              0,
              "#0d0887"
             ],
             [
              0.1111111111111111,
              "#46039f"
             ],
             [
              0.2222222222222222,
              "#7201a8"
             ],
             [
              0.3333333333333333,
              "#9c179e"
             ],
             [
              0.4444444444444444,
              "#bd3786"
             ],
             [
              0.5555555555555556,
              "#d8576b"
             ],
             [
              0.6666666666666666,
              "#ed7953"
             ],
             [
              0.7777777777777778,
              "#fb9f3a"
             ],
             [
              0.8888888888888888,
              "#fdca26"
             ],
             [
              1,
              "#f0f921"
             ]
            ],
            "type": "histogram2dcontour"
           }
          ],
          "mesh3d": [
           {
            "colorbar": {
             "outlinewidth": 0,
             "ticks": ""
            },
            "type": "mesh3d"
           }
          ],
          "parcoords": [
           {
            "line": {
             "colorbar": {
              "outlinewidth": 0,
              "ticks": ""
             }
            },
            "type": "parcoords"
           }
          ],
          "pie": [
           {
            "automargin": true,
            "type": "pie"
           }
          ],
          "scatter": [
           {
            "fillpattern": {
             "fillmode": "overlay",
             "size": 10,
             "solidity": 0.2
            },
            "type": "scatter"
           }
          ],
          "scatter3d": [
           {
            "line": {
             "colorbar": {
              "outlinewidth": 0,
              "ticks": ""
             }
            },
            "marker": {
             "colorbar": {
              "outlinewidth": 0,
              "ticks": ""
             }
            },
            "type": "scatter3d"
           }
          ],
          "scattercarpet": [
           {
            "marker": {
             "colorbar": {
              "outlinewidth": 0,
              "ticks": ""
             }
            },
            "type": "scattercarpet"
           }
          ],
          "scattergeo": [
           {
            "marker": {
             "colorbar": {
              "outlinewidth": 0,
              "ticks": ""
             }
            },
            "type": "scattergeo"
           }
          ],
          "scattergl": [
           {
            "marker": {
             "colorbar": {
              "outlinewidth": 0,
              "ticks": ""
             }
            },
            "type": "scattergl"
           }
          ],
          "scattermap": [
           {
            "marker": {
             "colorbar": {
              "outlinewidth": 0,
              "ticks": ""
             }
            },
            "type": "scattermap"
           }
          ],
          "scattermapbox": [
           {
            "marker": {
             "colorbar": {
              "outlinewidth": 0,
              "ticks": ""
             }
            },
            "type": "scattermapbox"
           }
          ],
          "scatterpolar": [
           {
            "marker": {
             "colorbar": {
              "outlinewidth": 0,
              "ticks": ""
             }
            },
            "type": "scatterpolar"
           }
          ],
          "scatterpolargl": [
           {
            "marker": {
             "colorbar": {
              "outlinewidth": 0,
              "ticks": ""
             }
            },
            "type": "scatterpolargl"
           }
          ],
          "scatterternary": [
           {
            "marker": {
             "colorbar": {
              "outlinewidth": 0,
              "ticks": ""
             }
            },
            "type": "scatterternary"
           }
          ],
          "surface": [
           {
            "colorbar": {
             "outlinewidth": 0,
             "ticks": ""
            },
            "colorscale": [
             [
              0,
              "#0d0887"
             ],
             [
              0.1111111111111111,
              "#46039f"
             ],
             [
              0.2222222222222222,
              "#7201a8"
             ],
             [
              0.3333333333333333,
              "#9c179e"
             ],
             [
              0.4444444444444444,
              "#bd3786"
             ],
             [
              0.5555555555555556,
              "#d8576b"
             ],
             [
              0.6666666666666666,
              "#ed7953"
             ],
             [
              0.7777777777777778,
              "#fb9f3a"
             ],
             [
              0.8888888888888888,
              "#fdca26"
             ],
             [
              1,
              "#f0f921"
             ]
            ],
            "type": "surface"
           }
          ],
          "table": [
           {
            "cells": {
             "fill": {
              "color": "#EBF0F8"
             },
             "line": {
              "color": "white"
             }
            },
            "header": {
             "fill": {
              "color": "#C8D4E3"
             },
             "line": {
              "color": "white"
             }
            },
            "type": "table"
           }
          ]
         },
         "layout": {
          "annotationdefaults": {
           "arrowcolor": "#2a3f5f",
           "arrowhead": 0,
           "arrowwidth": 1
          },
          "autotypenumbers": "strict",
          "coloraxis": {
           "colorbar": {
            "outlinewidth": 0,
            "ticks": ""
           }
          },
          "colorscale": {
           "diverging": [
            [
             0,
             "#8e0152"
            ],
            [
             0.1,
             "#c51b7d"
            ],
            [
             0.2,
             "#de77ae"
            ],
            [
             0.3,
             "#f1b6da"
            ],
            [
             0.4,
             "#fde0ef"
            ],
            [
             0.5,
             "#f7f7f7"
            ],
            [
             0.6,
             "#e6f5d0"
            ],
            [
             0.7,
             "#b8e186"
            ],
            [
             0.8,
             "#7fbc41"
            ],
            [
             0.9,
             "#4d9221"
            ],
            [
             1,
             "#276419"
            ]
           ],
           "sequential": [
            [
             0,
             "#0d0887"
            ],
            [
             0.1111111111111111,
             "#46039f"
            ],
            [
             0.2222222222222222,
             "#7201a8"
            ],
            [
             0.3333333333333333,
             "#9c179e"
            ],
            [
             0.4444444444444444,
             "#bd3786"
            ],
            [
             0.5555555555555556,
             "#d8576b"
            ],
            [
             0.6666666666666666,
             "#ed7953"
            ],
            [
             0.7777777777777778,
             "#fb9f3a"
            ],
            [
             0.8888888888888888,
             "#fdca26"
            ],
            [
             1,
             "#f0f921"
            ]
           ],
           "sequentialminus": [
            [
             0,
             "#0d0887"
            ],
            [
             0.1111111111111111,
             "#46039f"
            ],
            [
             0.2222222222222222,
             "#7201a8"
            ],
            [
             0.3333333333333333,
             "#9c179e"
            ],
            [
             0.4444444444444444,
             "#bd3786"
            ],
            [
             0.5555555555555556,
             "#d8576b"
            ],
            [
             0.6666666666666666,
             "#ed7953"
            ],
            [
             0.7777777777777778,
             "#fb9f3a"
            ],
            [
             0.8888888888888888,
             "#fdca26"
            ],
            [
             1,
             "#f0f921"
            ]
           ]
          },
          "colorway": [
           "#636efa",
           "#EF553B",
           "#00cc96",
           "#ab63fa",
           "#FFA15A",
           "#19d3f3",
           "#FF6692",
           "#B6E880",
           "#FF97FF",
           "#FECB52"
          ],
          "font": {
           "color": "#2a3f5f"
          },
          "geo": {
           "bgcolor": "white",
           "lakecolor": "white",
           "landcolor": "#E5ECF6",
           "showlakes": true,
           "showland": true,
           "subunitcolor": "white"
          },
          "hoverlabel": {
           "align": "left"
          },
          "hovermode": "closest",
          "mapbox": {
           "style": "light"
          },
          "paper_bgcolor": "white",
          "plot_bgcolor": "#E5ECF6",
          "polar": {
           "angularaxis": {
            "gridcolor": "white",
            "linecolor": "white",
            "ticks": ""
           },
           "bgcolor": "#E5ECF6",
           "radialaxis": {
            "gridcolor": "white",
            "linecolor": "white",
            "ticks": ""
           }
          },
          "scene": {
           "xaxis": {
            "backgroundcolor": "#E5ECF6",
            "gridcolor": "white",
            "gridwidth": 2,
            "linecolor": "white",
            "showbackground": true,
            "ticks": "",
            "zerolinecolor": "white"
           },
           "yaxis": {
            "backgroundcolor": "#E5ECF6",
            "gridcolor": "white",
            "gridwidth": 2,
            "linecolor": "white",
            "showbackground": true,
            "ticks": "",
            "zerolinecolor": "white"
           },
           "zaxis": {
            "backgroundcolor": "#E5ECF6",
            "gridcolor": "white",
            "gridwidth": 2,
            "linecolor": "white",
            "showbackground": true,
            "ticks": "",
            "zerolinecolor": "white"
           }
          },
          "shapedefaults": {
           "line": {
            "color": "#2a3f5f"
           }
          },
          "ternary": {
           "aaxis": {
            "gridcolor": "white",
            "linecolor": "white",
            "ticks": ""
           },
           "baxis": {
            "gridcolor": "white",
            "linecolor": "white",
            "ticks": ""
           },
           "bgcolor": "#E5ECF6",
           "caxis": {
            "gridcolor": "white",
            "linecolor": "white",
            "ticks": ""
           }
          },
          "title": {
           "x": 0.05
          },
          "xaxis": {
           "automargin": true,
           "gridcolor": "white",
           "linecolor": "white",
           "ticks": "",
           "title": {
            "standoff": 15
           },
           "zerolinecolor": "white",
           "zerolinewidth": 2
          },
          "yaxis": {
           "automargin": true,
           "gridcolor": "white",
           "linecolor": "white",
           "ticks": "",
           "title": {
            "standoff": 15
           },
           "zerolinecolor": "white",
           "zerolinewidth": 2
          }
         }
        },
        "title": {
         "text": "Penguin Flipper Length vs Body Mass (Interactive Scatter)"
        },
        "xaxis": {
         "anchor": "y",
         "domain": [
          0,
          1
         ],
         "title": {
          "text": "flipper_length_mm"
         }
        },
        "yaxis": {
         "anchor": "x",
         "domain": [
          0,
          1
         ],
         "title": {
          "text": "body_mass_g"
         }
        }
       }
      }
     },
     "metadata": {},
     "output_type": "display_data"
    },
    {
     "data": {
      "application/vnd.plotly.v1+json": {
       "config": {
        "plotlyServerURL": "https://plot.ly"
       },
       "data": [
        {
         "hovertemplate": "species=%{x}<br>body_mass_g=%{y}<extra></extra>",
         "legendgroup": "Adelie",
         "marker": {
          "color": "#636efa",
          "pattern": {
           "shape": ""
          }
         },
         "name": "Adelie",
         "orientation": "v",
         "showlegend": true,
         "textposition": "auto",
         "texttemplate": "%{y}",
         "type": "bar",
         "x": [
          "Adelie"
         ],
         "xaxis": "x",
         "y": {
          "bdata": "hQoVKlT0rEA=",
          "dtype": "f8"
         },
         "yaxis": "y"
        },
        {
         "hovertemplate": "species=%{x}<br>body_mass_g=%{y}<extra></extra>",
         "legendgroup": "Chinstrap",
         "marker": {
          "color": "#EF553B",
          "pattern": {
           "shape": ""
          }
         },
         "name": "Chinstrap",
         "orientation": "v",
         "showlegend": true,
         "textposition": "auto",
         "texttemplate": "%{y}",
         "type": "bar",
         "x": [
          "Chinstrap"
         ],
         "xaxis": "x",
         "y": {
          "bdata": "LS0tLS0qrUA=",
          "dtype": "f8"
         },
         "yaxis": "y"
        },
        {
         "hovertemplate": "species=%{x}<br>body_mass_g=%{y}<extra></extra>",
         "legendgroup": "Gentoo",
         "marker": {
          "color": "#00cc96",
          "pattern": {
           "shape": ""
          }
         },
         "name": "Gentoo",
         "orientation": "v",
         "showlegend": true,
         "textposition": "auto",
         "texttemplate": "%{y}",
         "type": "bar",
         "x": [
          "Gentoo"
         ],
         "xaxis": "x",
         "y": {
          "bdata": "3m+U3W/ks0A=",
          "dtype": "f8"
         },
         "yaxis": "y"
        }
       ],
       "layout": {
        "barmode": "relative",
        "legend": {
         "title": {
          "text": "species"
         },
         "tracegroupgap": 0
        },
        "template": {
         "data": {
          "bar": [
           {
            "error_x": {
             "color": "#2a3f5f"
            },
            "error_y": {
             "color": "#2a3f5f"
            },
            "marker": {
             "line": {
              "color": "#E5ECF6",
              "width": 0.5
             },
             "pattern": {
              "fillmode": "overlay",
              "size": 10,
              "solidity": 0.2
             }
            },
            "type": "bar"
           }
          ],
          "barpolar": [
           {
            "marker": {
             "line": {
              "color": "#E5ECF6",
              "width": 0.5
             },
             "pattern": {
              "fillmode": "overlay",
              "size": 10,
              "solidity": 0.2
             }
            },
            "type": "barpolar"
           }
          ],
          "carpet": [
           {
            "aaxis": {
             "endlinecolor": "#2a3f5f",
             "gridcolor": "white",
             "linecolor": "white",
             "minorgridcolor": "white",
             "startlinecolor": "#2a3f5f"
            },
            "baxis": {
             "endlinecolor": "#2a3f5f",
             "gridcolor": "white",
             "linecolor": "white",
             "minorgridcolor": "white",
             "startlinecolor": "#2a3f5f"
            },
            "type": "carpet"
           }
          ],
          "choropleth": [
           {
            "colorbar": {
             "outlinewidth": 0,
             "ticks": ""
            },
            "type": "choropleth"
           }
          ],
          "contour": [
           {
            "colorbar": {
             "outlinewidth": 0,
             "ticks": ""
            },
            "colorscale": [
             [
              0,
              "#0d0887"
             ],
             [
              0.1111111111111111,
              "#46039f"
             ],
             [
              0.2222222222222222,
              "#7201a8"
             ],
             [
              0.3333333333333333,
              "#9c179e"
             ],
             [
              0.4444444444444444,
              "#bd3786"
             ],
             [
              0.5555555555555556,
              "#d8576b"
             ],
             [
              0.6666666666666666,
              "#ed7953"
             ],
             [
              0.7777777777777778,
              "#fb9f3a"
             ],
             [
              0.8888888888888888,
              "#fdca26"
             ],
             [
              1,
              "#f0f921"
             ]
            ],
            "type": "contour"
           }
          ],
          "contourcarpet": [
           {
            "colorbar": {
             "outlinewidth": 0,
             "ticks": ""
            },
            "type": "contourcarpet"
           }
          ],
          "heatmap": [
           {
            "colorbar": {
             "outlinewidth": 0,
             "ticks": ""
            },
            "colorscale": [
             [
              0,
              "#0d0887"
             ],
             [
              0.1111111111111111,
              "#46039f"
             ],
             [
              0.2222222222222222,
              "#7201a8"
             ],
             [
              0.3333333333333333,
              "#9c179e"
             ],
             [
              0.4444444444444444,
              "#bd3786"
             ],
             [
              0.5555555555555556,
              "#d8576b"
             ],
             [
              0.6666666666666666,
              "#ed7953"
             ],
             [
              0.7777777777777778,
              "#fb9f3a"
             ],
             [
              0.8888888888888888,
              "#fdca26"
             ],
             [
              1,
              "#f0f921"
             ]
            ],
            "type": "heatmap"
           }
          ],
          "histogram": [
           {
            "marker": {
             "pattern": {
              "fillmode": "overlay",
              "size": 10,
              "solidity": 0.2
             }
            },
            "type": "histogram"
           }
          ],
          "histogram2d": [
           {
            "colorbar": {
             "outlinewidth": 0,
             "ticks": ""
            },
            "colorscale": [
             [
              0,
              "#0d0887"
             ],
             [
              0.1111111111111111,
              "#46039f"
             ],
             [
              0.2222222222222222,
              "#7201a8"
             ],
             [
              0.3333333333333333,
              "#9c179e"
             ],
             [
              0.4444444444444444,
              "#bd3786"
             ],
             [
              0.5555555555555556,
              "#d8576b"
             ],
             [
              0.6666666666666666,
              "#ed7953"
             ],
             [
              0.7777777777777778,
              "#fb9f3a"
             ],
             [
              0.8888888888888888,
              "#fdca26"
             ],
             [
              1,
              "#f0f921"
             ]
            ],
            "type": "histogram2d"
           }
          ],
          "histogram2dcontour": [
           {
            "colorbar": {
             "outlinewidth": 0,
             "ticks": ""
            },
            "colorscale": [
             [
              0,
              "#0d0887"
             ],
             [
              0.1111111111111111,
              "#46039f"
             ],
             [
              0.2222222222222222,
              "#7201a8"
             ],
             [
              0.3333333333333333,
              "#9c179e"
             ],
             [
              0.4444444444444444,
              "#bd3786"
             ],
             [
              0.5555555555555556,
              "#d8576b"
             ],
             [
              0.6666666666666666,
              "#ed7953"
             ],
             [
              0.7777777777777778,
              "#fb9f3a"
             ],
             [
              0.8888888888888888,
              "#fdca26"
             ],
             [
              1,
              "#f0f921"
             ]
            ],
            "type": "histogram2dcontour"
           }
          ],
          "mesh3d": [
           {
            "colorbar": {
             "outlinewidth": 0,
             "ticks": ""
            },
            "type": "mesh3d"
           }
          ],
          "parcoords": [
           {
            "line": {
             "colorbar": {
              "outlinewidth": 0,
              "ticks": ""
             }
            },
            "type": "parcoords"
           }
          ],
          "pie": [
           {
            "automargin": true,
            "type": "pie"
           }
          ],
          "scatter": [
           {
            "fillpattern": {
             "fillmode": "overlay",
             "size": 10,
             "solidity": 0.2
            },
            "type": "scatter"
           }
          ],
          "scatter3d": [
           {
            "line": {
             "colorbar": {
              "outlinewidth": 0,
              "ticks": ""
             }
            },
            "marker": {
             "colorbar": {
              "outlinewidth": 0,
              "ticks": ""
             }
            },
            "type": "scatter3d"
           }
          ],
          "scattercarpet": [
           {
            "marker": {
             "colorbar": {
              "outlinewidth": 0,
              "ticks": ""
             }
            },
            "type": "scattercarpet"
           }
          ],
          "scattergeo": [
           {
            "marker": {
             "colorbar": {
              "outlinewidth": 0,
              "ticks": ""
             }
            },
            "type": "scattergeo"
           }
          ],
          "scattergl": [
           {
            "marker": {
             "colorbar": {
              "outlinewidth": 0,
              "ticks": ""
             }
            },
            "type": "scattergl"
           }
          ],
          "scattermap": [
           {
            "marker": {
             "colorbar": {
              "outlinewidth": 0,
              "ticks": ""
             }
            },
            "type": "scattermap"
           }
          ],
          "scattermapbox": [
           {
            "marker": {
             "colorbar": {
              "outlinewidth": 0,
              "ticks": ""
             }
            },
            "type": "scattermapbox"
           }
          ],
          "scatterpolar": [
           {
            "marker": {
             "colorbar": {
              "outlinewidth": 0,
              "ticks": ""
             }
            },
            "type": "scatterpolar"
           }
          ],
          "scatterpolargl": [
           {
            "marker": {
             "colorbar": {
              "outlinewidth": 0,
              "ticks": ""
             }
            },
            "type": "scatterpolargl"
           }
          ],
          "scatterternary": [
           {
            "marker": {
             "colorbar": {
              "outlinewidth": 0,
              "ticks": ""
             }
            },
            "type": "scatterternary"
           }
          ],
          "surface": [
           {
            "colorbar": {
             "outlinewidth": 0,
             "ticks": ""
            },
            "colorscale": [
             [
              0,
              "#0d0887"
             ],
             [
              0.1111111111111111,
              "#46039f"
             ],
             [
              0.2222222222222222,
              "#7201a8"
             ],
             [
              0.3333333333333333,
              "#9c179e"
             ],
             [
              0.4444444444444444,
              "#bd3786"
             ],
             [
              0.5555555555555556,
              "#d8576b"
             ],
             [
              0.6666666666666666,
              "#ed7953"
             ],
             [
              0.7777777777777778,
              "#fb9f3a"
             ],
             [
              0.8888888888888888,
              "#fdca26"
             ],
             [
              1,
              "#f0f921"
             ]
            ],
            "type": "surface"
           }
          ],
          "table": [
           {
            "cells": {
             "fill": {
              "color": "#EBF0F8"
             },
             "line": {
              "color": "white"
             }
            },
            "header": {
             "fill": {
              "color": "#C8D4E3"
             },
             "line": {
              "color": "white"
             }
            },
            "type": "table"
           }
          ]
         },
         "layout": {
          "annotationdefaults": {
           "arrowcolor": "#2a3f5f",
           "arrowhead": 0,
           "arrowwidth": 1
          },
          "autotypenumbers": "strict",
          "coloraxis": {
           "colorbar": {
            "outlinewidth": 0,
            "ticks": ""
           }
          },
          "colorscale": {
           "diverging": [
            [
             0,
             "#8e0152"
            ],
            [
             0.1,
             "#c51b7d"
            ],
            [
             0.2,
             "#de77ae"
            ],
            [
             0.3,
             "#f1b6da"
            ],
            [
             0.4,
             "#fde0ef"
            ],
            [
             0.5,
             "#f7f7f7"
            ],
            [
             0.6,
             "#e6f5d0"
            ],
            [
             0.7,
             "#b8e186"
            ],
            [
             0.8,
             "#7fbc41"
            ],
            [
             0.9,
             "#4d9221"
            ],
            [
             1,
             "#276419"
            ]
           ],
           "sequential": [
            [
             0,
             "#0d0887"
            ],
            [
             0.1111111111111111,
             "#46039f"
            ],
            [
             0.2222222222222222,
             "#7201a8"
            ],
            [
             0.3333333333333333,
             "#9c179e"
            ],
            [
             0.4444444444444444,
             "#bd3786"
            ],
            [
             0.5555555555555556,
             "#d8576b"
            ],
            [
             0.6666666666666666,
             "#ed7953"
            ],
            [
             0.7777777777777778,
             "#fb9f3a"
            ],
            [
             0.8888888888888888,
             "#fdca26"
            ],
            [
             1,
             "#f0f921"
            ]
           ],
           "sequentialminus": [
            [
             0,
             "#0d0887"
            ],
            [
             0.1111111111111111,
             "#46039f"
            ],
            [
             0.2222222222222222,
             "#7201a8"
            ],
            [
             0.3333333333333333,
             "#9c179e"
            ],
            [
             0.4444444444444444,
             "#bd3786"
            ],
            [
             0.5555555555555556,
             "#d8576b"
            ],
            [
             0.6666666666666666,
             "#ed7953"
            ],
            [
             0.7777777777777778,
             "#fb9f3a"
            ],
            [
             0.8888888888888888,
             "#fdca26"
            ],
            [
             1,
             "#f0f921"
            ]
           ]
          },
          "colorway": [
           "#636efa",
           "#EF553B",
           "#00cc96",
           "#ab63fa",
           "#FFA15A",
           "#19d3f3",
           "#FF6692",
           "#B6E880",
           "#FF97FF",
           "#FECB52"
          ],
          "font": {
           "color": "#2a3f5f"
          },
          "geo": {
           "bgcolor": "white",
           "lakecolor": "white",
           "landcolor": "#E5ECF6",
           "showlakes": true,
           "showland": true,
           "subunitcolor": "white"
          },
          "hoverlabel": {
           "align": "left"
          },
          "hovermode": "closest",
          "mapbox": {
           "style": "light"
          },
          "paper_bgcolor": "white",
          "plot_bgcolor": "#E5ECF6",
          "polar": {
           "angularaxis": {
            "gridcolor": "white",
            "linecolor": "white",
            "ticks": ""
           },
           "bgcolor": "#E5ECF6",
           "radialaxis": {
            "gridcolor": "white",
            "linecolor": "white",
            "ticks": ""
           }
          },
          "scene": {
           "xaxis": {
            "backgroundcolor": "#E5ECF6",
            "gridcolor": "white",
            "gridwidth": 2,
            "linecolor": "white",
            "showbackground": true,
            "ticks": "",
            "zerolinecolor": "white"
           },
           "yaxis": {
            "backgroundcolor": "#E5ECF6",
            "gridcolor": "white",
            "gridwidth": 2,
            "linecolor": "white",
            "showbackground": true,
            "ticks": "",
            "zerolinecolor": "white"
           },
           "zaxis": {
            "backgroundcolor": "#E5ECF6",
            "gridcolor": "white",
            "gridwidth": 2,
            "linecolor": "white",
            "showbackground": true,
            "ticks": "",
            "zerolinecolor": "white"
           }
          },
          "shapedefaults": {
           "line": {
            "color": "#2a3f5f"
           }
          },
          "ternary": {
           "aaxis": {
            "gridcolor": "white",
            "linecolor": "white",
            "ticks": ""
           },
           "baxis": {
            "gridcolor": "white",
            "linecolor": "white",
            "ticks": ""
           },
           "bgcolor": "#E5ECF6",
           "caxis": {
            "gridcolor": "white",
            "linecolor": "white",
            "ticks": ""
           }
          },
          "title": {
           "x": 0.05
          },
          "xaxis": {
           "automargin": true,
           "gridcolor": "white",
           "linecolor": "white",
           "ticks": "",
           "title": {
            "standoff": 15
           },
           "zerolinecolor": "white",
           "zerolinewidth": 2
          },
          "yaxis": {
           "automargin": true,
           "gridcolor": "white",
           "linecolor": "white",
           "ticks": "",
           "title": {
            "standoff": 15
           },
           "zerolinecolor": "white",
           "zerolinewidth": 2
          }
         }
        },
        "title": {
         "text": "Average Body Mass of Penguin Species"
        },
        "xaxis": {
         "anchor": "y",
         "categoryarray": [
          "Adelie",
          "Chinstrap",
          "Gentoo"
         ],
         "categoryorder": "array",
         "domain": [
          0,
          1
         ],
         "title": {
          "text": "species"
         }
        },
        "yaxis": {
         "anchor": "x",
         "domain": [
          0,
          1
         ],
         "title": {
          "text": "body_mass_g"
         }
        }
       }
      }
     },
     "metadata": {},
     "output_type": "display_data"
    },
    {
     "data": {
      "application/vnd.plotly.v1+json": {
       "config": {
        "plotlyServerURL": "https://plot.ly"
       },
       "data": [
        {
         "alignmentgroup": "True",
         "hovertemplate": "island=%{x}<br>flipper_length_mm=%{y}<extra></extra>",
         "legendgroup": "Torgersen",
         "marker": {
          "color": "#636efa"
         },
         "name": "Torgersen",
         "notched": false,
         "offsetgroup": "Torgersen",
         "orientation": "v",
         "showlegend": true,
         "type": "box",
         "x": [
          "Torgersen",
          "Torgersen",
          "Torgersen",
          "Torgersen",
          "Torgersen",
          "Torgersen",
          "Torgersen",
          "Torgersen",
          "Torgersen",
          "Torgersen",
          "Torgersen",
          "Torgersen",
          "Torgersen",
          "Torgersen",
          "Torgersen",
          "Torgersen",
          "Torgersen",
          "Torgersen",
          "Torgersen",
          "Torgersen",
          "Torgersen",
          "Torgersen",
          "Torgersen",
          "Torgersen",
          "Torgersen",
          "Torgersen",
          "Torgersen",
          "Torgersen",
          "Torgersen",
          "Torgersen",
          "Torgersen",
          "Torgersen",
          "Torgersen",
          "Torgersen",
          "Torgersen",
          "Torgersen",
          "Torgersen",
          "Torgersen",
          "Torgersen",
          "Torgersen",
          "Torgersen",
          "Torgersen",
          "Torgersen",
          "Torgersen",
          "Torgersen",
          "Torgersen",
          "Torgersen"
         ],
         "x0": " ",
         "xaxis": "x",
         "y": {
          "bdata": "AAAAAACgZkAAAAAAAEBnQAAAAAAAYGhAAAAAAAAgaEAAAAAAAMBnQAAAAAAAoGZAAAAAAABgaEAAAAAAAMBmQAAAAAAA4GdAAAAAAADAaEAAAAAAACBnQAAAAAAAYGhAAAAAAACgaEAAAAAAAABnQAAAAAAAQGhAAAAAAADAZ0AAAAAAAMBoQAAAAAAAwGdAAAAAAADAZ0AAAAAAAIBoQAAAAAAAoGhAAAAAAADAZ0AAAAAAAGBoQAAAAAAA4GdAAAAAAAAAZ0AAAAAAAGBnQAAAAAAAYGhAAAAAAACgZ0AAAAAAAIBoQAAAAAAAYGdAAAAAAAAgaEAAAAAAAIBnQAAAAAAA4GhAAAAAAACgZ0AAAAAAAKBnQAAAAAAAYGdAAAAAAADAaEAAAAAAAABmQAAAAAAAQGlAAAAAAABAZ0AAAAAAAOBoQAAAAAAA4GdAAAAAAABgaEAAAAAAAOBnQAAAAAAAQGpAAAAAAADAZ0AAAAAAAKBoQA==",
          "dtype": "f8"
         },
         "y0": " ",
         "yaxis": "y"
        },
        {
         "alignmentgroup": "True",
         "hovertemplate": "island=%{x}<br>flipper_length_mm=%{y}<extra></extra>",
         "legendgroup": "Biscoe",
         "marker": {
          "color": "#EF553B"
         },
         "name": "Biscoe",
         "notched": false,
         "offsetgroup": "Biscoe",
         "orientation": "v",
         "showlegend": true,
         "type": "box",
         "x": [
          "Biscoe",
          "Biscoe",
          "Biscoe",
          "Biscoe",
          "Biscoe",
          "Biscoe",
          "Biscoe",
          "Biscoe",
          "Biscoe",
          "Biscoe",
          "Biscoe",
          "Biscoe",
          "Biscoe",
          "Biscoe",
          "Biscoe",
          "Biscoe",
          "Biscoe",
          "Biscoe",
          "Biscoe",
          "Biscoe",
          "Biscoe",
          "Biscoe",
          "Biscoe",
          "Biscoe",
          "Biscoe",
          "Biscoe",
          "Biscoe",
          "Biscoe",
          "Biscoe",
          "Biscoe",
          "Biscoe",
          "Biscoe",
          "Biscoe",
          "Biscoe",
          "Biscoe",
          "Biscoe",
          "Biscoe",
          "Biscoe",
          "Biscoe",
          "Biscoe",
          "Biscoe",
          "Biscoe",
          "Biscoe",
          "Biscoe",
          "Biscoe",
          "Biscoe",
          "Biscoe",
          "Biscoe",
          "Biscoe",
          "Biscoe",
          "Biscoe",
          "Biscoe",
          "Biscoe",
          "Biscoe",
          "Biscoe",
          "Biscoe",
          "Biscoe",
          "Biscoe",
          "Biscoe",
          "Biscoe",
          "Biscoe",
          "Biscoe",
          "Biscoe",
          "Biscoe",
          "Biscoe",
          "Biscoe",
          "Biscoe",
          "Biscoe",
          "Biscoe",
          "Biscoe",
          "Biscoe",
          "Biscoe",
          "Biscoe",
          "Biscoe",
          "Biscoe",
          "Biscoe",
          "Biscoe",
          "Biscoe",
          "Biscoe",
          "Biscoe",
          "Biscoe",
          "Biscoe",
          "Biscoe",
          "Biscoe",
          "Biscoe",
          "Biscoe",
          "Biscoe",
          "Biscoe",
          "Biscoe",
          "Biscoe",
          "Biscoe",
          "Biscoe",
          "Biscoe",
          "Biscoe",
          "Biscoe",
          "Biscoe",
          "Biscoe",
          "Biscoe",
          "Biscoe",
          "Biscoe",
          "Biscoe",
          "Biscoe",
          "Biscoe",
          "Biscoe",
          "Biscoe",
          "Biscoe",
          "Biscoe",
          "Biscoe",
          "Biscoe",
          "Biscoe",
          "Biscoe",
          "Biscoe",
          "Biscoe",
          "Biscoe",
          "Biscoe",
          "Biscoe",
          "Biscoe",
          "Biscoe",
          "Biscoe",
          "Biscoe",
          "Biscoe",
          "Biscoe",
          "Biscoe",
          "Biscoe",
          "Biscoe",
          "Biscoe",
          "Biscoe",
          "Biscoe",
          "Biscoe",
          "Biscoe",
          "Biscoe",
          "Biscoe",
          "Biscoe",
          "Biscoe",
          "Biscoe",
          "Biscoe",
          "Biscoe",
          "Biscoe",
          "Biscoe",
          "Biscoe",
          "Biscoe",
          "Biscoe",
          "Biscoe",
          "Biscoe",
          "Biscoe",
          "Biscoe",
          "Biscoe",
          "Biscoe",
          "Biscoe",
          "Biscoe",
          "Biscoe",
          "Biscoe",
          "Biscoe",
          "Biscoe",
          "Biscoe",
          "Biscoe",
          "Biscoe",
          "Biscoe",
          "Biscoe",
          "Biscoe",
          "Biscoe",
          "Biscoe",
          "Biscoe"
         ],
         "x0": " ",
         "xaxis": "x",
         "y": {
          "bdata": "AAAAAADAZUAAAAAAAIBmQAAAAAAAoGdAAAAAAAAgZ0AAAAAAAIBmQAAAAAAAYGdAAAAAAADgZkAAAAAAAGBnQAAAAAAAgGVAAAAAAACAZkAAAAAAAEBnQAAAAAAAgGdAAAAAAADAZ0AAAAAAAABpQAAAAAAAYGdAAAAAAADgZ0AAAAAAAEBnQAAAAAAAIGhAAAAAAACgZkAAAAAAAEBoQAAAAAAAIGdAAAAAAABgaEAAAAAAACBnQAAAAAAAAGhAAAAAAAAAZ0AAAAAAAABoQAAAAAAAYGhAAAAAAACAZ0AAAAAAAABoQAAAAAAAYGlAAAAAAADgZkAAAAAAAMBnQAAAAAAAIGhAAAAAAAAAZ0AAAAAAAOBoQAAAAAAAwGdAAAAAAACgZkAAAAAAAKBoQAAAAAAAwGhAAAAAAADgZ0AAAAAAACBoQAAAAAAAoGhAAAAAAADgZ0AAAAAAAIBoQAAAAAAAYGpAAAAAAADAbEAAAAAAAEBqQAAAAAAAQGtAAAAAAADgakAAAAAAAEBqQAAAAAAAYGpAAAAAAABga0AAAAAAACBqQAAAAAAA4GpAAAAAAADAakAAAAAAAABrQAAAAAAAwGpAAAAAAACgakAAAAAAAEBqQAAAAAAAIGtAAAAAAABAakAAAAAAAKBrQAAAAAAAIGpAAAAAAADAa0AAAAAAAEBrQAAAAAAA4GpAAAAAAACgakAAAAAAAOBqQAAAAAAA4GpAAAAAAADgakAAAAAAAOBqQAAAAAAAQGpAAAAAAACAa0AAAAAAAMBrQAAAAAAAIGpAAAAAAADgaUAAAAAAAMBsQAAAAAAAgGtAAAAAAACAa0AAAAAAAKBqQAAAAAAAYGtAAAAAAAAAakAAAAAAAABqQAAAAAAAAGpAAAAAAAAgbEAAAAAAAEBqQAAAAAAAAGtAAAAAAADAa0AAAAAAACBrQAAAAAAAQGpAAAAAAAAgbEAAAAAAAKBqQAAAAAAA4GpAAAAAAABAakAAAAAAAIBrQAAAAAAAQGpAAAAAAAAgbEAAAAAAACBrQAAAAAAAgGtAAAAAAAAAakAAAAAAAIBrQAAAAAAAAGpAAAAAAAAAbEAAAAAAAABqQAAAAAAAoGtAAAAAAADAakAAAAAAAOBsQAAAAAAAYGtAAAAAAADAbEAAAAAAAKBsQAAAAAAAgGtAAAAAAADga0AAAAAAAABrQAAAAAAAoGtAAAAAAACga0AAAAAAACBrQAAAAAAAAGtAAAAAAADAbEAAAAAAACBqQAAAAAAAgGtAAAAAAADgakAAAAAAAOBrQAAAAAAAgGpAAAAAAACga0AAAAAAAIBqQAAAAAAAAGxAAAAAAACAakAAAAAAAIBsQAAAAAAAQGtAAAAAAABAa0AAAAAAAIBqQAAAAAAAwGxAAAAAAABAa0AAAAAAAIBsQAAAAAAAgGpAAAAAAAAAbEAAAAAAAMBqQAAAAAAAQGxAAAAAAAAAa0AAAAAAAMBrQAAAAAAAYGlAAAAAAAAgbEAAAAAAAGBrQAAAAAAAgGxAAAAAAADgakAAAAAAAIBsQAAAAAAA4GpAAAAAAABAakAAAAAAAGBrQAAAAAAAAGpAAAAAAAAgakAAAAAAAABrQAAAAAAAoGxAAAAAAACgakAAAAAAAMBsQAAAAAAAIGtAAAAAAADAbEAAAAAAAMBrQAAAAAAAwGpAAAAAAADgakAAAAAAAMBrQAAAAAAAgGpAAAAAAACgakA=",
          "dtype": "f8"
         },
         "y0": " ",
         "yaxis": "y"
        },
        {
         "alignmentgroup": "True",
         "hovertemplate": "island=%{x}<br>flipper_length_mm=%{y}<extra></extra>",
         "legendgroup": "Dream",
         "marker": {
          "color": "#00cc96"
         },
         "name": "Dream",
         "notched": false,
         "offsetgroup": "Dream",
         "orientation": "v",
         "showlegend": true,
         "type": "box",
         "x": [
          "Dream",
          "Dream",
          "Dream",
          "Dream",
          "Dream",
          "Dream",
          "Dream",
          "Dream",
          "Dream",
          "Dream",
          "Dream",
          "Dream",
          "Dream",
          "Dream",
          "Dream",
          "Dream",
          "Dream",
          "Dream",
          "Dream",
          "Dream",
          "Dream",
          "Dream",
          "Dream",
          "Dream",
          "Dream",
          "Dream",
          "Dream",
          "Dream",
          "Dream",
          "Dream",
          "Dream",
          "Dream",
          "Dream",
          "Dream",
          "Dream",
          "Dream",
          "Dream",
          "Dream",
          "Dream",
          "Dream",
          "Dream",
          "Dream",
          "Dream",
          "Dream",
          "Dream",
          "Dream",
          "Dream",
          "Dream",
          "Dream",
          "Dream",
          "Dream",
          "Dream",
          "Dream",
          "Dream",
          "Dream",
          "Dream",
          "Dream",
          "Dream",
          "Dream",
          "Dream",
          "Dream",
          "Dream",
          "Dream",
          "Dream",
          "Dream",
          "Dream",
          "Dream",
          "Dream",
          "Dream",
          "Dream",
          "Dream",
          "Dream",
          "Dream",
          "Dream",
          "Dream",
          "Dream",
          "Dream",
          "Dream",
          "Dream",
          "Dream",
          "Dream",
          "Dream",
          "Dream",
          "Dream",
          "Dream",
          "Dream",
          "Dream",
          "Dream",
          "Dream",
          "Dream",
          "Dream",
          "Dream",
          "Dream",
          "Dream",
          "Dream",
          "Dream",
          "Dream",
          "Dream",
          "Dream",
          "Dream",
          "Dream",
          "Dream",
          "Dream",
          "Dream",
          "Dream",
          "Dream",
          "Dream",
          "Dream",
          "Dream",
          "Dream",
          "Dream",
          "Dream",
          "Dream",
          "Dream",
          "Dream",
          "Dream",
          "Dream",
          "Dream",
          "Dream",
          "Dream",
          "Dream",
          "Dream",
          "Dream"
         ],
         "x0": " ",
         "xaxis": "x",
         "y": {
          "bdata": "AAAAAABAZkAAAAAAAEBmQAAAAAAAgGdAAAAAAAAAZ0AAAAAAAGBoQAAAAAAAgGhAAAAAAADAZ0AAAAAAAIBmQAAAAAAAoGZAAAAAAAAAZ0AAAAAAAMBmQAAAAAAAYGhAAAAAAABAZ0AAAAAAAIBoQAAAAAAAIGdAAAAAAADAZ0AAAAAAAMBmQAAAAAAAwGdAAAAAAADgZ0AAAAAAAOBnQAAAAAAAQGhAAAAAAADAZ0AAAAAAAKBnQAAAAAAAoGdAAAAAAADAZ0AAAAAAAEBpQAAAAAAAoGlAAAAAAAAgZ0AAAAAAAEBnQAAAAAAAYGdAAAAAAAAAakAAAAAAAMBnQAAAAAAAgGhAAAAAAABAZkAAAAAAAABoQAAAAAAAIGhAAAAAAADgaEAAAAAAAGBnQAAAAAAAwGdAAAAAAADgZ0AAAAAAAABpQAAAAAAAIGdAAAAAAAAgaEAAAAAAACBoQAAAAAAAYGdAAAAAAACAZ0AAAAAAAMBnQAAAAAAAAGhAAAAAAAAgZ0AAAAAAAMBnQAAAAAAAAGdAAAAAAABgaEAAAAAAACBoQAAAAAAAYGdAAAAAAAAgaUAAAAAAAABoQAAAAAAAgGhAAAAAAAAgaEAAAAAAAIBnQAAAAAAAoGhAAAAAAADAaEAAAAAAAEBmQAAAAAAAoGhAAAAAAABgaEAAAAAAAMBoQAAAAAAAIGhAAAAAAABAaEAAAAAAACBnQAAAAAAAIGlAAAAAAADAZ0AAAAAAACBpQAAAAAAAoGhAAAAAAACgZkAAAAAAAMBnQAAAAAAAYGhAAAAAAACgZkAAAAAAAOBnQAAAAAAAYGdAAAAAAAAgaEAAAAAAAGBoQAAAAAAAoGhAAAAAAAAAaUAAAAAAAABpQAAAAAAA4GdAAAAAAACgaUAAAAAAAGBnQAAAAAAAIGlAAAAAAABgZ0AAAAAAAGBpQAAAAAAAYGhAAAAAAADgaEAAAAAAAGBoQAAAAAAAQGpAAAAAAAAAaEAAAAAAAKBpQAAAAAAAQGpAAAAAAABgZ0AAAAAAAIBoQAAAAAAAgGhAAAAAAACAaEAAAAAAACBpQAAAAAAAwGdAAAAAAACAakAAAAAAAGBnQAAAAAAAwGhAAAAAAADgaEAAAAAAACBpQAAAAAAAIGhAAAAAAABgaUAAAAAAAGBnQAAAAAAAoGhAAAAAAADgZ0AAAAAAAGBpQAAAAAAAQGlAAAAAAABAaEAAAAAAAMBpQAAAAAAAoGdAAAAAAABgaEAAAAAAAOBpQAAAAAAAQGlAAAAAAAAgaEAAAAAAAEBqQAAAAAAAwGhA",
          "dtype": "f8"
         },
         "y0": " ",
         "yaxis": "y"
        }
       ],
       "layout": {
        "boxmode": "overlay",
        "legend": {
         "title": {
          "text": "island"
         },
         "tracegroupgap": 0
        },
        "template": {
         "data": {
          "bar": [
           {
            "error_x": {
             "color": "#2a3f5f"
            },
            "error_y": {
             "color": "#2a3f5f"
            },
            "marker": {
             "line": {
              "color": "#E5ECF6",
              "width": 0.5
             },
             "pattern": {
              "fillmode": "overlay",
              "size": 10,
              "solidity": 0.2
             }
            },
            "type": "bar"
           }
          ],
          "barpolar": [
           {
            "marker": {
             "line": {
              "color": "#E5ECF6",
              "width": 0.5
             },
             "pattern": {
              "fillmode": "overlay",
              "size": 10,
              "solidity": 0.2
             }
            },
            "type": "barpolar"
           }
          ],
          "carpet": [
           {
            "aaxis": {
             "endlinecolor": "#2a3f5f",
             "gridcolor": "white",
             "linecolor": "white",
             "minorgridcolor": "white",
             "startlinecolor": "#2a3f5f"
            },
            "baxis": {
             "endlinecolor": "#2a3f5f",
             "gridcolor": "white",
             "linecolor": "white",
             "minorgridcolor": "white",
             "startlinecolor": "#2a3f5f"
            },
            "type": "carpet"
           }
          ],
          "choropleth": [
           {
            "colorbar": {
             "outlinewidth": 0,
             "ticks": ""
            },
            "type": "choropleth"
           }
          ],
          "contour": [
           {
            "colorbar": {
             "outlinewidth": 0,
             "ticks": ""
            },
            "colorscale": [
             [
              0,
              "#0d0887"
             ],
             [
              0.1111111111111111,
              "#46039f"
             ],
             [
              0.2222222222222222,
              "#7201a8"
             ],
             [
              0.3333333333333333,
              "#9c179e"
             ],
             [
              0.4444444444444444,
              "#bd3786"
             ],
             [
              0.5555555555555556,
              "#d8576b"
             ],
             [
              0.6666666666666666,
              "#ed7953"
             ],
             [
              0.7777777777777778,
              "#fb9f3a"
             ],
             [
              0.8888888888888888,
              "#fdca26"
             ],
             [
              1,
              "#f0f921"
             ]
            ],
            "type": "contour"
           }
          ],
          "contourcarpet": [
           {
            "colorbar": {
             "outlinewidth": 0,
             "ticks": ""
            },
            "type": "contourcarpet"
           }
          ],
          "heatmap": [
           {
            "colorbar": {
             "outlinewidth": 0,
             "ticks": ""
            },
            "colorscale": [
             [
              0,
              "#0d0887"
             ],
             [
              0.1111111111111111,
              "#46039f"
             ],
             [
              0.2222222222222222,
              "#7201a8"
             ],
             [
              0.3333333333333333,
              "#9c179e"
             ],
             [
              0.4444444444444444,
              "#bd3786"
             ],
             [
              0.5555555555555556,
              "#d8576b"
             ],
             [
              0.6666666666666666,
              "#ed7953"
             ],
             [
              0.7777777777777778,
              "#fb9f3a"
             ],
             [
              0.8888888888888888,
              "#fdca26"
             ],
             [
              1,
              "#f0f921"
             ]
            ],
            "type": "heatmap"
           }
          ],
          "histogram": [
           {
            "marker": {
             "pattern": {
              "fillmode": "overlay",
              "size": 10,
              "solidity": 0.2
             }
            },
            "type": "histogram"
           }
          ],
          "histogram2d": [
           {
            "colorbar": {
             "outlinewidth": 0,
             "ticks": ""
            },
            "colorscale": [
             [
              0,
              "#0d0887"
             ],
             [
              0.1111111111111111,
              "#46039f"
             ],
             [
              0.2222222222222222,
              "#7201a8"
             ],
             [
              0.3333333333333333,
              "#9c179e"
             ],
             [
              0.4444444444444444,
              "#bd3786"
             ],
             [
              0.5555555555555556,
              "#d8576b"
             ],
             [
              0.6666666666666666,
              "#ed7953"
             ],
             [
              0.7777777777777778,
              "#fb9f3a"
             ],
             [
              0.8888888888888888,
              "#fdca26"
             ],
             [
              1,
              "#f0f921"
             ]
            ],
            "type": "histogram2d"
           }
          ],
          "histogram2dcontour": [
           {
            "colorbar": {
             "outlinewidth": 0,
             "ticks": ""
            },
            "colorscale": [
             [
              0,
              "#0d0887"
             ],
             [
              0.1111111111111111,
              "#46039f"
             ],
             [
              0.2222222222222222,
              "#7201a8"
             ],
             [
              0.3333333333333333,
              "#9c179e"
             ],
             [
              0.4444444444444444,
              "#bd3786"
             ],
             [
              0.5555555555555556,
              "#d8576b"
             ],
             [
              0.6666666666666666,
              "#ed7953"
             ],
             [
              0.7777777777777778,
              "#fb9f3a"
             ],
             [
              0.8888888888888888,
              "#fdca26"
             ],
             [
              1,
              "#f0f921"
             ]
            ],
            "type": "histogram2dcontour"
           }
          ],
          "mesh3d": [
           {
            "colorbar": {
             "outlinewidth": 0,
             "ticks": ""
            },
            "type": "mesh3d"
           }
          ],
          "parcoords": [
           {
            "line": {
             "colorbar": {
              "outlinewidth": 0,
              "ticks": ""
             }
            },
            "type": "parcoords"
           }
          ],
          "pie": [
           {
            "automargin": true,
            "type": "pie"
           }
          ],
          "scatter": [
           {
            "fillpattern": {
             "fillmode": "overlay",
             "size": 10,
             "solidity": 0.2
            },
            "type": "scatter"
           }
          ],
          "scatter3d": [
           {
            "line": {
             "colorbar": {
              "outlinewidth": 0,
              "ticks": ""
             }
            },
            "marker": {
             "colorbar": {
              "outlinewidth": 0,
              "ticks": ""
             }
            },
            "type": "scatter3d"
           }
          ],
          "scattercarpet": [
           {
            "marker": {
             "colorbar": {
              "outlinewidth": 0,
              "ticks": ""
             }
            },
            "type": "scattercarpet"
           }
          ],
          "scattergeo": [
           {
            "marker": {
             "colorbar": {
              "outlinewidth": 0,
              "ticks": ""
             }
            },
            "type": "scattergeo"
           }
          ],
          "scattergl": [
           {
            "marker": {
             "colorbar": {
              "outlinewidth": 0,
              "ticks": ""
             }
            },
            "type": "scattergl"
           }
          ],
          "scattermap": [
           {
            "marker": {
             "colorbar": {
              "outlinewidth": 0,
              "ticks": ""
             }
            },
            "type": "scattermap"
           }
          ],
          "scattermapbox": [
           {
            "marker": {
             "colorbar": {
              "outlinewidth": 0,
              "ticks": ""
             }
            },
            "type": "scattermapbox"
           }
          ],
          "scatterpolar": [
           {
            "marker": {
             "colorbar": {
              "outlinewidth": 0,
              "ticks": ""
             }
            },
            "type": "scatterpolar"
           }
          ],
          "scatterpolargl": [
           {
            "marker": {
             "colorbar": {
              "outlinewidth": 0,
              "ticks": ""
             }
            },
            "type": "scatterpolargl"
           }
          ],
          "scatterternary": [
           {
            "marker": {
             "colorbar": {
              "outlinewidth": 0,
              "ticks": ""
             }
            },
            "type": "scatterternary"
           }
          ],
          "surface": [
           {
            "colorbar": {
             "outlinewidth": 0,
             "ticks": ""
            },
            "colorscale": [
             [
              0,
              "#0d0887"
             ],
             [
              0.1111111111111111,
              "#46039f"
             ],
             [
              0.2222222222222222,
              "#7201a8"
             ],
             [
              0.3333333333333333,
              "#9c179e"
             ],
             [
              0.4444444444444444,
              "#bd3786"
             ],
             [
              0.5555555555555556,
              "#d8576b"
             ],
             [
              0.6666666666666666,
              "#ed7953"
             ],
             [
              0.7777777777777778,
              "#fb9f3a"
             ],
             [
              0.8888888888888888,
              "#fdca26"
             ],
             [
              1,
              "#f0f921"
             ]
            ],
            "type": "surface"
           }
          ],
          "table": [
           {
            "cells": {
             "fill": {
              "color": "#EBF0F8"
             },
             "line": {
              "color": "white"
             }
            },
            "header": {
             "fill": {
              "color": "#C8D4E3"
             },
             "line": {
              "color": "white"
             }
            },
            "type": "table"
           }
          ]
         },
         "layout": {
          "annotationdefaults": {
           "arrowcolor": "#2a3f5f",
           "arrowhead": 0,
           "arrowwidth": 1
          },
          "autotypenumbers": "strict",
          "coloraxis": {
           "colorbar": {
            "outlinewidth": 0,
            "ticks": ""
           }
          },
          "colorscale": {
           "diverging": [
            [
             0,
             "#8e0152"
            ],
            [
             0.1,
             "#c51b7d"
            ],
            [
             0.2,
             "#de77ae"
            ],
            [
             0.3,
             "#f1b6da"
            ],
            [
             0.4,
             "#fde0ef"
            ],
            [
             0.5,
             "#f7f7f7"
            ],
            [
             0.6,
             "#e6f5d0"
            ],
            [
             0.7,
             "#b8e186"
            ],
            [
             0.8,
             "#7fbc41"
            ],
            [
             0.9,
             "#4d9221"
            ],
            [
             1,
             "#276419"
            ]
           ],
           "sequential": [
            [
             0,
             "#0d0887"
            ],
            [
             0.1111111111111111,
             "#46039f"
            ],
            [
             0.2222222222222222,
             "#7201a8"
            ],
            [
             0.3333333333333333,
             "#9c179e"
            ],
            [
             0.4444444444444444,
             "#bd3786"
            ],
            [
             0.5555555555555556,
             "#d8576b"
            ],
            [
             0.6666666666666666,
             "#ed7953"
            ],
            [
             0.7777777777777778,
             "#fb9f3a"
            ],
            [
             0.8888888888888888,
             "#fdca26"
            ],
            [
             1,
             "#f0f921"
            ]
           ],
           "sequentialminus": [
            [
             0,
             "#0d0887"
            ],
            [
             0.1111111111111111,
             "#46039f"
            ],
            [
             0.2222222222222222,
             "#7201a8"
            ],
            [
             0.3333333333333333,
             "#9c179e"
            ],
            [
             0.4444444444444444,
             "#bd3786"
            ],
            [
             0.5555555555555556,
             "#d8576b"
            ],
            [
             0.6666666666666666,
             "#ed7953"
            ],
            [
             0.7777777777777778,
             "#fb9f3a"
            ],
            [
             0.8888888888888888,
             "#fdca26"
            ],
            [
             1,
             "#f0f921"
            ]
           ]
          },
          "colorway": [
           "#636efa",
           "#EF553B",
           "#00cc96",
           "#ab63fa",
           "#FFA15A",
           "#19d3f3",
           "#FF6692",
           "#B6E880",
           "#FF97FF",
           "#FECB52"
          ],
          "font": {
           "color": "#2a3f5f"
          },
          "geo": {
           "bgcolor": "white",
           "lakecolor": "white",
           "landcolor": "#E5ECF6",
           "showlakes": true,
           "showland": true,
           "subunitcolor": "white"
          },
          "hoverlabel": {
           "align": "left"
          },
          "hovermode": "closest",
          "mapbox": {
           "style": "light"
          },
          "paper_bgcolor": "white",
          "plot_bgcolor": "#E5ECF6",
          "polar": {
           "angularaxis": {
            "gridcolor": "white",
            "linecolor": "white",
            "ticks": ""
           },
           "bgcolor": "#E5ECF6",
           "radialaxis": {
            "gridcolor": "white",
            "linecolor": "white",
            "ticks": ""
           }
          },
          "scene": {
           "xaxis": {
            "backgroundcolor": "#E5ECF6",
            "gridcolor": "white",
            "gridwidth": 2,
            "linecolor": "white",
            "showbackground": true,
            "ticks": "",
            "zerolinecolor": "white"
           },
           "yaxis": {
            "backgroundcolor": "#E5ECF6",
            "gridcolor": "white",
            "gridwidth": 2,
            "linecolor": "white",
            "showbackground": true,
            "ticks": "",
            "zerolinecolor": "white"
           },
           "zaxis": {
            "backgroundcolor": "#E5ECF6",
            "gridcolor": "white",
            "gridwidth": 2,
            "linecolor": "white",
            "showbackground": true,
            "ticks": "",
            "zerolinecolor": "white"
           }
          },
          "shapedefaults": {
           "line": {
            "color": "#2a3f5f"
           }
          },
          "ternary": {
           "aaxis": {
            "gridcolor": "white",
            "linecolor": "white",
            "ticks": ""
           },
           "baxis": {
            "gridcolor": "white",
            "linecolor": "white",
            "ticks": ""
           },
           "bgcolor": "#E5ECF6",
           "caxis": {
            "gridcolor": "white",
            "linecolor": "white",
            "ticks": ""
           }
          },
          "title": {
           "x": 0.05
          },
          "xaxis": {
           "automargin": true,
           "gridcolor": "white",
           "linecolor": "white",
           "ticks": "",
           "title": {
            "standoff": 15
           },
           "zerolinecolor": "white",
           "zerolinewidth": 2
          },
          "yaxis": {
           "automargin": true,
           "gridcolor": "white",
           "linecolor": "white",
           "ticks": "",
           "title": {
            "standoff": 15
           },
           "zerolinecolor": "white",
           "zerolinewidth": 2
          }
         }
        },
        "title": {
         "text": "Flipper length Distrubution by Island"
        },
        "xaxis": {
         "anchor": "y",
         "categoryarray": [
          "Torgersen",
          "Biscoe",
          "Dream"
         ],
         "categoryorder": "array",
         "domain": [
          0,
          1
         ],
         "title": {
          "text": "island"
         }
        },
        "yaxis": {
         "anchor": "x",
         "domain": [
          0,
          1
         ],
         "title": {
          "text": "flipper_length_mm"
         }
        }
       }
      }
     },
     "metadata": {},
     "output_type": "display_data"
    },
    {
     "data": {
      "application/vnd.plotly.v1+json": {
       "config": {
        "plotlyServerURL": "https://plot.ly"
       },
       "data": [
        {
         "alignmentgroup": "True",
         "box": {
          "visible": true
         },
         "customdata": [
          [
           "Torgersen"
          ],
          [
           "Torgersen"
          ],
          [
           "Torgersen"
          ],
          [
           "Torgersen"
          ],
          [
           "Torgersen"
          ],
          [
           "Torgersen"
          ],
          [
           "Torgersen"
          ],
          [
           "Biscoe"
          ],
          [
           "Biscoe"
          ],
          [
           "Biscoe"
          ],
          [
           "Biscoe"
          ],
          [
           "Biscoe"
          ],
          [
           "Dream"
          ],
          [
           "Dream"
          ],
          [
           "Dream"
          ],
          [
           "Dream"
          ],
          [
           "Dream"
          ],
          [
           "Dream"
          ],
          [
           "Dream"
          ],
          [
           "Dream"
          ],
          [
           "Dream"
          ],
          [
           "Dream"
          ],
          [
           "Biscoe"
          ],
          [
           "Biscoe"
          ],
          [
           "Biscoe"
          ],
          [
           "Biscoe"
          ],
          [
           "Biscoe"
          ],
          [
           "Biscoe"
          ],
          [
           "Biscoe"
          ],
          [
           "Biscoe"
          ],
          [
           "Biscoe"
          ],
          [
           "Torgersen"
          ],
          [
           "Torgersen"
          ],
          [
           "Torgersen"
          ],
          [
           "Torgersen"
          ],
          [
           "Torgersen"
          ],
          [
           "Torgersen"
          ],
          [
           "Torgersen"
          ],
          [
           "Torgersen"
          ],
          [
           "Dream"
          ],
          [
           "Dream"
          ],
          [
           "Dream"
          ],
          [
           "Dream"
          ],
          [
           "Dream"
          ],
          [
           "Dream"
          ],
          [
           "Dream"
          ],
          [
           "Dream"
          ],
          [
           "Biscoe"
          ],
          [
           "Biscoe"
          ],
          [
           "Biscoe"
          ],
          [
           "Biscoe"
          ],
          [
           "Biscoe"
          ],
          [
           "Biscoe"
          ],
          [
           "Biscoe"
          ],
          [
           "Biscoe"
          ],
          [
           "Torgersen"
          ],
          [
           "Torgersen"
          ],
          [
           "Torgersen"
          ],
          [
           "Torgersen"
          ],
          [
           "Torgersen"
          ],
          [
           "Torgersen"
          ],
          [
           "Torgersen"
          ],
          [
           "Torgersen"
          ],
          [
           "Dream"
          ],
          [
           "Dream"
          ],
          [
           "Dream"
          ],
          [
           "Dream"
          ],
          [
           "Dream"
          ],
          [
           "Dream"
          ],
          [
           "Dream"
          ],
          [
           "Dream"
          ],
          [
           "Dream"
          ],
          [
           "Dream"
          ],
          [
           "Dream"
          ],
          [
           "Dream"
          ],
          [
           "Dream"
          ],
          [
           "Dream"
          ],
          [
           "Dream"
          ],
          [
           "Dream"
          ],
          [
           "Dream"
          ],
          [
           "Dream"
          ],
          [
           "Dream"
          ],
          [
           "Dream"
          ],
          [
           "Dream"
          ],
          [
           "Dream"
          ],
          [
           "Dream"
          ],
          [
           "Dream"
          ],
          [
           "Dream"
          ],
          [
           "Dream"
          ],
          [
           "Dream"
          ],
          [
           "Dream"
          ],
          [
           "Dream"
          ],
          [
           "Dream"
          ],
          [
           "Dream"
          ],
          [
           "Dream"
          ],
          [
           "Dream"
          ],
          [
           "Dream"
          ],
          [
           "Dream"
          ],
          [
           "Dream"
          ],
          [
           "Dream"
          ],
          [
           "Dream"
          ],
          [
           "Dream"
          ],
          [
           "Dream"
          ],
          [
           "Dream"
          ],
          [
           "Dream"
          ],
          [
           "Dream"
          ],
          [
           "Dream"
          ],
          [
           "Biscoe"
          ],
          [
           "Biscoe"
          ],
          [
           "Biscoe"
          ],
          [
           "Biscoe"
          ],
          [
           "Biscoe"
          ],
          [
           "Biscoe"
          ],
          [
           "Biscoe"
          ],
          [
           "Biscoe"
          ],
          [
           "Biscoe"
          ],
          [
           "Biscoe"
          ],
          [
           "Biscoe"
          ],
          [
           "Biscoe"
          ],
          [
           "Biscoe"
          ],
          [
           "Biscoe"
          ],
          [
           "Biscoe"
          ],
          [
           "Biscoe"
          ],
          [
           "Biscoe"
          ],
          [
           "Biscoe"
          ],
          [
           "Biscoe"
          ],
          [
           "Biscoe"
          ],
          [
           "Biscoe"
          ],
          [
           "Biscoe"
          ],
          [
           "Biscoe"
          ],
          [
           "Biscoe"
          ],
          [
           "Biscoe"
          ],
          [
           "Biscoe"
          ],
          [
           "Biscoe"
          ],
          [
           "Biscoe"
          ],
          [
           "Biscoe"
          ],
          [
           "Biscoe"
          ],
          [
           "Biscoe"
          ],
          [
           "Biscoe"
          ],
          [
           "Biscoe"
          ],
          [
           "Biscoe"
          ],
          [
           "Biscoe"
          ],
          [
           "Biscoe"
          ],
          [
           "Biscoe"
          ],
          [
           "Biscoe"
          ],
          [
           "Biscoe"
          ],
          [
           "Biscoe"
          ],
          [
           "Biscoe"
          ],
          [
           "Biscoe"
          ],
          [
           "Biscoe"
          ],
          [
           "Biscoe"
          ],
          [
           "Biscoe"
          ],
          [
           "Biscoe"
          ],
          [
           "Biscoe"
          ],
          [
           "Biscoe"
          ],
          [
           "Biscoe"
          ],
          [
           "Biscoe"
          ],
          [
           "Biscoe"
          ],
          [
           "Biscoe"
          ],
          [
           "Biscoe"
          ],
          [
           "Biscoe"
          ],
          [
           "Biscoe"
          ],
          [
           "Biscoe"
          ],
          [
           "Biscoe"
          ],
          [
           "Biscoe"
          ],
          [
           "Biscoe"
          ],
          [
           "Biscoe"
          ],
          [
           "Biscoe"
          ]
         ],
         "hovertemplate": "sex=Male<br>species=%{x}<br>body_mass_g=%{y}<br>island=%{customdata[0]}<extra></extra>",
         "legendgroup": "Male",
         "marker": {
          "color": "#636efa"
         },
         "name": "Male",
         "offsetgroup": "Male",
         "orientation": "v",
         "points": "all",
         "scalegroup": "True",
         "showlegend": true,
         "type": "violin",
         "x": [
          "Adelie",
          "Adelie",
          "Adelie",
          "Adelie",
          "Adelie",
          "Adelie",
          "Adelie",
          "Adelie",
          "Adelie",
          "Adelie",
          "Adelie",
          "Adelie",
          "Adelie",
          "Adelie",
          "Adelie",
          "Adelie",
          "Adelie",
          "Adelie",
          "Adelie",
          "Adelie",
          "Adelie",
          "Adelie",
          "Adelie",
          "Adelie",
          "Adelie",
          "Adelie",
          "Adelie",
          "Adelie",
          "Adelie",
          "Adelie",
          "Adelie",
          "Adelie",
          "Adelie",
          "Adelie",
          "Adelie",
          "Adelie",
          "Adelie",
          "Adelie",
          "Adelie",
          "Adelie",
          "Adelie",
          "Adelie",
          "Adelie",
          "Adelie",
          "Adelie",
          "Adelie",
          "Adelie",
          "Adelie",
          "Adelie",
          "Adelie",
          "Adelie",
          "Adelie",
          "Adelie",
          "Adelie",
          "Adelie",
          "Adelie",
          "Adelie",
          "Adelie",
          "Adelie",
          "Adelie",
          "Adelie",
          "Adelie",
          "Adelie",
          "Adelie",
          "Adelie",
          "Adelie",
          "Adelie",
          "Adelie",
          "Adelie",
          "Adelie",
          "Adelie",
          "Adelie",
          "Adelie",
          "Chinstrap",
          "Chinstrap",
          "Chinstrap",
          "Chinstrap",
          "Chinstrap",
          "Chinstrap",
          "Chinstrap",
          "Chinstrap",
          "Chinstrap",
          "Chinstrap",
          "Chinstrap",
          "Chinstrap",
          "Chinstrap",
          "Chinstrap",
          "Chinstrap",
          "Chinstrap",
          "Chinstrap",
          "Chinstrap",
          "Chinstrap",
          "Chinstrap",
          "Chinstrap",
          "Chinstrap",
          "Chinstrap",
          "Chinstrap",
          "Chinstrap",
          "Chinstrap",
          "Chinstrap",
          "Chinstrap",
          "Chinstrap",
          "Chinstrap",
          "Chinstrap",
          "Chinstrap",
          "Chinstrap",
          "Chinstrap",
          "Gentoo",
          "Gentoo",
          "Gentoo",
          "Gentoo",
          "Gentoo",
          "Gentoo",
          "Gentoo",
          "Gentoo",
          "Gentoo",
          "Gentoo",
          "Gentoo",
          "Gentoo",
          "Gentoo",
          "Gentoo",
          "Gentoo",
          "Gentoo",
          "Gentoo",
          "Gentoo",
          "Gentoo",
          "Gentoo",
          "Gentoo",
          "Gentoo",
          "Gentoo",
          "Gentoo",
          "Gentoo",
          "Gentoo",
          "Gentoo",
          "Gentoo",
          "Gentoo",
          "Gentoo",
          "Gentoo",
          "Gentoo",
          "Gentoo",
          "Gentoo",
          "Gentoo",
          "Gentoo",
          "Gentoo",
          "Gentoo",
          "Gentoo",
          "Gentoo",
          "Gentoo",
          "Gentoo",
          "Gentoo",
          "Gentoo",
          "Gentoo",
          "Gentoo",
          "Gentoo",
          "Gentoo",
          "Gentoo",
          "Gentoo",
          "Gentoo",
          "Gentoo",
          "Gentoo",
          "Gentoo",
          "Gentoo",
          "Gentoo",
          "Gentoo",
          "Gentoo",
          "Gentoo",
          "Gentoo",
          "Gentoo"
         ],
         "x0": " ",
         "xaxis": "x",
         "y": {
          "bdata": "AAAAAABMrUAAAAAAAISsQAAAAAAAQ7JAAAAAAACwrUAAAAAAADCxQAAAAAAAlLFAAAAAAABosEAAAAAAACCsQAAAAAAA3K5AAAAAAACwrUAAAAAAALyrQAAAAAAA3K5AAAAAAAB4rkAAAAAAAHiuQAAAAAAANrBAAAAAAADcrkAAAAAAACqyQAAAAAAAeK5AAAAAAAAwsUAAAAAAAPixQAAAAAAAwqpAAAAAAAA2sEAAAAAAAMywQAAAAAAApK9AAAAAAADorEAAAAAAALCtQAAAAAAATK1AAAAAAAAwsUAAAAAAAKSvQAAAAAAA3K5AAAAAAAAEsEAAAAAAAGKxQAAAAAAAeK5AAAAAAAA2sEAAAAAAAJqwQAAAAAAAeK5AAAAAAABAr0AAAAAAAFyyQAAAAAAAaLBAAAAAAAC8q0AAAAAAALCtQAAAAAAA3K5AAAAAAADMsEAAAAAAAGKxQAAAAAAAzLBAAAAAAAD+sEAAAAAAAASwQAAAAAAAdbJAAAAAAACasEAAAAAAALyrQAAAAAAAeK5AAAAAAACnskAAAAAAAPixQAAAAAAAs7BAAAAAAADWr0AAAAAAAH6tQAAAAAAA+qlAAAAAAABYq0AAAAAAAEauQAAAAAAAQK9AAAAAAADMsEAAAAAAAECvQAAAAAAAWKtAAAAAAAB7sUAAAAAAAHiuQAAAAAAADq9AAAAAAACasEAAAAAAACarQAAAAAAAGq1AAAAAAACErEAAAAAAAJqwQAAAAAAATK1AAAAAAABAr0AAAAAAAHiuQAAAAAAAhKxAAAAAAAAarUAAAAAAAEytQAAAAAAA6KxAAAAAAAB+rUAAAAAAAKSvQAAAAAAApK9AAAAAAADIqUAAAAAAADCxQAAAAAAAkKpAAAAAAACwrUAAAAAAADawQAAAAAAAsK1AAAAAAADGsUAAAAAAAMywQAAAAAAABLBAAAAAAAAgrEAAAAAAAMCyQAAAAAAAlLFAAAAAAADcrkAAAAAAALyrQAAAAAAAYrFAAAAAAADMsEAAAAAAAGSpQAAAAAAA3K5AAAAAAACkr0AAAAAAAPSqQAAAAAAApK9AAAAAAACwrUAAAAAAANyuQAAAAAAAQK9AAAAAAAB+rUAAAAAAAASwQAAAAAAARLZAAAAAAABEtkAAAAAAABi1QAAAAAAAULRAAAAAAAAetEAAAAAAAK61QAAAAAAA2rZAAAAAAADatkAAAAAAAJy4QAAAAAAA5rRAAAAAAABEtkAAAAAAALqzQAAAAAAA7LNAAAAAAAAStkAAAAAAAK61QAAAAAAAgrRAAAAAAACit0AAAAAAABi1QAAAAAAAgrRAAAAAAADmtEAAAAAAAES2QAAAAAAAjrJAAAAAAACutUAAAAAAABi1QAAAAAAAtLRAAAAAAAC0tEAAAAAAAIizQAAAAAAAurNAAAAAAACIs0AAAAAAAK61QAAAAAAAtLRAAAAAAAAStkAAAAAAAES2QAAAAAAAqLZAAAAAAACutUAAAAAAAIizQAAAAAAA7LNAAAAAAACotkAAAAAAAHC3QAAAAAAAPrdAAAAAAABKtUAAAAAAAOa0QAAAAAAA4LVAAAAAAAC0tEAAAAAAAK61QAAAAAAAGLVAAAAAAAAStkAAAAAAAFC0QAAAAAAAPbNAAAAAAACCtEAAAAAAAOC1QAAAAAAAfLVAAAAAAAB8tUAAAAAAAHy1QAAAAAAAfLVAAAAAAAA+t0AAAAAAAHy1QAAAAAAA2rZAAAAAAABwt0AAAAAAAHa2QAAAAAAAGLVA",
          "dtype": "f8"
         },
         "y0": " ",
         "yaxis": "y"
        },
        {
         "alignmentgroup": "True",
         "box": {
          "visible": true
         },
         "customdata": [
          [
           "Torgersen"
          ],
          [
           "Torgersen"
          ],
          [
           "Torgersen"
          ],
          [
           "Torgersen"
          ],
          [
           "Torgersen"
          ],
          [
           "Torgersen"
          ],
          [
           "Torgersen"
          ],
          [
           "Torgersen"
          ],
          [
           "Biscoe"
          ],
          [
           "Biscoe"
          ],
          [
           "Biscoe"
          ],
          [
           "Biscoe"
          ],
          [
           "Biscoe"
          ],
          [
           "Dream"
          ],
          [
           "Dream"
          ],
          [
           "Dream"
          ],
          [
           "Dream"
          ],
          [
           "Dream"
          ],
          [
           "Dream"
          ],
          [
           "Dream"
          ],
          [
           "Dream"
          ],
          [
           "Dream"
          ],
          [
           "Biscoe"
          ],
          [
           "Biscoe"
          ],
          [
           "Biscoe"
          ],
          [
           "Biscoe"
          ],
          [
           "Biscoe"
          ],
          [
           "Biscoe"
          ],
          [
           "Biscoe"
          ],
          [
           "Biscoe"
          ],
          [
           "Biscoe"
          ],
          [
           "Torgersen"
          ],
          [
           "Torgersen"
          ],
          [
           "Torgersen"
          ],
          [
           "Torgersen"
          ],
          [
           "Torgersen"
          ],
          [
           "Torgersen"
          ],
          [
           "Torgersen"
          ],
          [
           "Torgersen"
          ],
          [
           "Dream"
          ],
          [
           "Dream"
          ],
          [
           "Dream"
          ],
          [
           "Dream"
          ],
          [
           "Dream"
          ],
          [
           "Dream"
          ],
          [
           "Dream"
          ],
          [
           "Dream"
          ],
          [
           "Biscoe"
          ],
          [
           "Biscoe"
          ],
          [
           "Biscoe"
          ],
          [
           "Biscoe"
          ],
          [
           "Biscoe"
          ],
          [
           "Biscoe"
          ],
          [
           "Biscoe"
          ],
          [
           "Biscoe"
          ],
          [
           "Torgersen"
          ],
          [
           "Torgersen"
          ],
          [
           "Torgersen"
          ],
          [
           "Torgersen"
          ],
          [
           "Torgersen"
          ],
          [
           "Torgersen"
          ],
          [
           "Torgersen"
          ],
          [
           "Torgersen"
          ],
          [
           "Dream"
          ],
          [
           "Dream"
          ],
          [
           "Dream"
          ],
          [
           "Dream"
          ],
          [
           "Dream"
          ],
          [
           "Dream"
          ],
          [
           "Dream"
          ],
          [
           "Dream"
          ],
          [
           "Dream"
          ],
          [
           "Dream"
          ],
          [
           "Dream"
          ],
          [
           "Dream"
          ],
          [
           "Dream"
          ],
          [
           "Dream"
          ],
          [
           "Dream"
          ],
          [
           "Dream"
          ],
          [
           "Dream"
          ],
          [
           "Dream"
          ],
          [
           "Dream"
          ],
          [
           "Dream"
          ],
          [
           "Dream"
          ],
          [
           "Dream"
          ],
          [
           "Dream"
          ],
          [
           "Dream"
          ],
          [
           "Dream"
          ],
          [
           "Dream"
          ],
          [
           "Dream"
          ],
          [
           "Dream"
          ],
          [
           "Dream"
          ],
          [
           "Dream"
          ],
          [
           "Dream"
          ],
          [
           "Dream"
          ],
          [
           "Dream"
          ],
          [
           "Dream"
          ],
          [
           "Dream"
          ],
          [
           "Dream"
          ],
          [
           "Dream"
          ],
          [
           "Dream"
          ],
          [
           "Dream"
          ],
          [
           "Dream"
          ],
          [
           "Dream"
          ],
          [
           "Dream"
          ],
          [
           "Dream"
          ],
          [
           "Dream"
          ],
          [
           "Biscoe"
          ],
          [
           "Biscoe"
          ],
          [
           "Biscoe"
          ],
          [
           "Biscoe"
          ],
          [
           "Biscoe"
          ],
          [
           "Biscoe"
          ],
          [
           "Biscoe"
          ],
          [
           "Biscoe"
          ],
          [
           "Biscoe"
          ],
          [
           "Biscoe"
          ],
          [
           "Biscoe"
          ],
          [
           "Biscoe"
          ],
          [
           "Biscoe"
          ],
          [
           "Biscoe"
          ],
          [
           "Biscoe"
          ],
          [
           "Biscoe"
          ],
          [
           "Biscoe"
          ],
          [
           "Biscoe"
          ],
          [
           "Biscoe"
          ],
          [
           "Biscoe"
          ],
          [
           "Biscoe"
          ],
          [
           "Biscoe"
          ],
          [
           "Biscoe"
          ],
          [
           "Biscoe"
          ],
          [
           "Biscoe"
          ],
          [
           "Biscoe"
          ],
          [
           "Biscoe"
          ],
          [
           "Biscoe"
          ],
          [
           "Biscoe"
          ],
          [
           "Biscoe"
          ],
          [
           "Biscoe"
          ],
          [
           "Biscoe"
          ],
          [
           "Biscoe"
          ],
          [
           "Biscoe"
          ],
          [
           "Biscoe"
          ],
          [
           "Biscoe"
          ],
          [
           "Biscoe"
          ],
          [
           "Biscoe"
          ],
          [
           "Biscoe"
          ],
          [
           "Biscoe"
          ],
          [
           "Biscoe"
          ],
          [
           "Biscoe"
          ],
          [
           "Biscoe"
          ],
          [
           "Biscoe"
          ],
          [
           "Biscoe"
          ],
          [
           "Biscoe"
          ],
          [
           "Biscoe"
          ],
          [
           "Biscoe"
          ],
          [
           "Biscoe"
          ],
          [
           "Biscoe"
          ],
          [
           "Biscoe"
          ],
          [
           "Biscoe"
          ],
          [
           "Biscoe"
          ],
          [
           "Biscoe"
          ],
          [
           "Biscoe"
          ],
          [
           "Biscoe"
          ],
          [
           "Biscoe"
          ],
          [
           "Biscoe"
          ]
         ],
         "hovertemplate": "sex=Female<br>species=%{x}<br>body_mass_g=%{y}<br>island=%{customdata[0]}<extra></extra>",
         "legendgroup": "Female",
         "marker": {
          "color": "#EF553B"
         },
         "name": "Female",
         "offsetgroup": "Female",
         "orientation": "v",
         "points": "all",
         "scalegroup": "True",
         "showlegend": true,
         "type": "violin",
         "x": [
          "Adelie",
          "Adelie",
          "Adelie",
          "Adelie",
          "Adelie",
          "Adelie",
          "Adelie",
          "Adelie",
          "Adelie",
          "Adelie",
          "Adelie",
          "Adelie",
          "Adelie",
          "Adelie",
          "Adelie",
          "Adelie",
          "Adelie",
          "Adelie",
          "Adelie",
          "Adelie",
          "Adelie",
          "Adelie",
          "Adelie",
          "Adelie",
          "Adelie",
          "Adelie",
          "Adelie",
          "Adelie",
          "Adelie",
          "Adelie",
          "Adelie",
          "Adelie",
          "Adelie",
          "Adelie",
          "Adelie",
          "Adelie",
          "Adelie",
          "Adelie",
          "Adelie",
          "Adelie",
          "Adelie",
          "Adelie",
          "Adelie",
          "Adelie",
          "Adelie",
          "Adelie",
          "Adelie",
          "Adelie",
          "Adelie",
          "Adelie",
          "Adelie",
          "Adelie",
          "Adelie",
          "Adelie",
          "Adelie",
          "Adelie",
          "Adelie",
          "Adelie",
          "Adelie",
          "Adelie",
          "Adelie",
          "Adelie",
          "Adelie",
          "Adelie",
          "Adelie",
          "Adelie",
          "Adelie",
          "Adelie",
          "Adelie",
          "Adelie",
          "Adelie",
          "Adelie",
          "Adelie",
          "Chinstrap",
          "Chinstrap",
          "Chinstrap",
          "Chinstrap",
          "Chinstrap",
          "Chinstrap",
          "Chinstrap",
          "Chinstrap",
          "Chinstrap",
          "Chinstrap",
          "Chinstrap",
          "Chinstrap",
          "Chinstrap",
          "Chinstrap",
          "Chinstrap",
          "Chinstrap",
          "Chinstrap",
          "Chinstrap",
          "Chinstrap",
          "Chinstrap",
          "Chinstrap",
          "Chinstrap",
          "Chinstrap",
          "Chinstrap",
          "Chinstrap",
          "Chinstrap",
          "Chinstrap",
          "Chinstrap",
          "Chinstrap",
          "Chinstrap",
          "Chinstrap",
          "Chinstrap",
          "Chinstrap",
          "Chinstrap",
          "Gentoo",
          "Gentoo",
          "Gentoo",
          "Gentoo",
          "Gentoo",
          "Gentoo",
          "Gentoo",
          "Gentoo",
          "Gentoo",
          "Gentoo",
          "Gentoo",
          "Gentoo",
          "Gentoo",
          "Gentoo",
          "Gentoo",
          "Gentoo",
          "Gentoo",
          "Gentoo",
          "Gentoo",
          "Gentoo",
          "Gentoo",
          "Gentoo",
          "Gentoo",
          "Gentoo",
          "Gentoo",
          "Gentoo",
          "Gentoo",
          "Gentoo",
          "Gentoo",
          "Gentoo",
          "Gentoo",
          "Gentoo",
          "Gentoo",
          "Gentoo",
          "Gentoo",
          "Gentoo",
          "Gentoo",
          "Gentoo",
          "Gentoo",
          "Gentoo",
          "Gentoo",
          "Gentoo",
          "Gentoo",
          "Gentoo",
          "Gentoo",
          "Gentoo",
          "Gentoo",
          "Gentoo",
          "Gentoo",
          "Gentoo",
          "Gentoo",
          "Gentoo",
          "Gentoo",
          "Gentoo",
          "Gentoo",
          "Gentoo",
          "Gentoo",
          "Gentoo"
         ],
         "x0": " ",
         "xaxis": "x",
         "y": {
          "bdata": "AAAAAACwrUAAAAAAAGSpQAAAAAAA9KpAAAAAAABSrEAAAAAAAACpQAAAAAAA6KxAAAAAAAD0qkAAAAAAAPqpQAAAAAAAkKpAAAAAAACwrUAAAAAAALCtQAAAAAAAAKlAAAAAAACcqEAAAAAAAGSpQAAAAAAAyKlAAAAAAAD6qUAAAAAAALyrQAAAAAAAyKlAAAAAAACcqEAAAAAAADioQAAAAAAAcKdAAAAAAAD0qkAAAAAAAFirQAAAAAAA9KpAAAAAAACopkAAAAAAALyrQAAAAAAARKZAAAAAAACcqEAAAAAAACCsQAAAAAAARKZAAAAAAAAsqkAAAAAAANSnQAAAAAAAIKxAAAAAAAC8q0AAAAAAAOisQAAAAAAA6KxAAAAAAAC8q0AAAAAAAACpQAAAAAAAsK1AAAAAAAAsqkAAAAAAAFirQAAAAAAAIKxAAAAAAAC8q0AAAAAAAJCqQAAAAAAAyKlAAAAAAADorEAAAAAAAKimQAAAAAAAGq1AAAAAAAAGqEAAAAAAANqmQAAAAAAATK1AAAAAAADOqEAAAAAAAOKtQAAAAAAAAKlAAAAAAAB4rkAAAAAAAKimQAAAAAAALKpAAAAAAACcqEAAAAAAAPSqQAAAAAAA1KdAAAAAAACWqUAAAAAAANSnQAAAAAAA+qlAAAAAAABYq0AAAAAAAMKqQAAAAAAAzqhAAAAAAACQqkAAAAAAAJCqQAAAAAAA1KdAAAAAAABwp0AAAAAAACarQAAAAAAA9KpAAAAAAADorEAAAAAAAFirQAAAAAAAiqtAAAAAAADcrkAAAAAAAGSpQAAAAAAANrBAAAAAAACwrUAAAAAAAOisQAAAAAAA7qtAAAAAAADorEAAAAAAAPSqQAAAAAAAIKxAAAAAAACopkAAAAAAAMipQAAAAAAAkKpAAAAAAADorEAAAAAAAACpQAAAAAAALKpAAAAAAAB4rkAAAAAAABSuQAAAAAAAGKVAAAAAAACErEAAAAAAAFirQAAAAAAAtqxAAAAAAACQqkAAAAAAALasQAAAAAAA+qlAAAAAAAAgrEAAAAAAACyqQAAAAAAAZKlAAAAAAACKq0AAAAAAAISsQAAAAAAAhKxAAAAAAACQqkAAAAAAAH6tQAAAAAAAlLFAAAAAAABisUAAAAAAAMaxQAAAAAAAwLJAAAAAAAAwsUAAAAAAACqyQAAAAAAAKrJAAAAAAABosEAAAAAAADawQAAAAAAAwLJAAAAAAACIs0AAAAAAADCxQAAAAAAAiLNAAAAAAAD4sUAAAAAAAFyyQAAAAAAAurNAAAAAAAAetEAAAAAAAFazQAAAAAAA/rBAAAAAAADcrkAAAAAAAMywQAAAAAAAJLNAAAAAAABosEAAAAAAAOyzQAAAAAAA8rJAAAAAAAAwsUAAAAAAACSzQAAAAAAAzLBAAAAAAABisUAAAAAAAGiwQAAAAAAAMLFAAAAAAABcskAAAAAAAFyyQAAAAAAAjrJAAAAAAABQtEAAAAAAAFyyQAAAAAAA+LFAAAAAAACOskAAAAAAABGyQAAAAAAAdbJAAAAAAACOskAAAAAAAPixQAAAAAAAC7NAAAAAAABWs0AAAAAAAI6yQAAAAAAA8rJAAAAAAAALs0AAAAAAABGyQAAAAAAA8rJAAAAAAABvs0AAAAAAAFyyQAAAAAAA37FAAAAAAACIs0AAAAAAACqyQAAAAAAAF7FAAAAAAAA9s0AAAAAAAPKyQAAAAAAAULRA",
          "dtype": "f8"
         },
         "y0": " ",
         "yaxis": "y"
        }
       ],
       "layout": {
        "legend": {
         "title": {
          "text": "sex"
         },
         "tracegroupgap": 0
        },
        "template": {
         "data": {
          "bar": [
           {
            "error_x": {
             "color": "#2a3f5f"
            },
            "error_y": {
             "color": "#2a3f5f"
            },
            "marker": {
             "line": {
              "color": "#E5ECF6",
              "width": 0.5
             },
             "pattern": {
              "fillmode": "overlay",
              "size": 10,
              "solidity": 0.2
             }
            },
            "type": "bar"
           }
          ],
          "barpolar": [
           {
            "marker": {
             "line": {
              "color": "#E5ECF6",
              "width": 0.5
             },
             "pattern": {
              "fillmode": "overlay",
              "size": 10,
              "solidity": 0.2
             }
            },
            "type": "barpolar"
           }
          ],
          "carpet": [
           {
            "aaxis": {
             "endlinecolor": "#2a3f5f",
             "gridcolor": "white",
             "linecolor": "white",
             "minorgridcolor": "white",
             "startlinecolor": "#2a3f5f"
            },
            "baxis": {
             "endlinecolor": "#2a3f5f",
             "gridcolor": "white",
             "linecolor": "white",
             "minorgridcolor": "white",
             "startlinecolor": "#2a3f5f"
            },
            "type": "carpet"
           }
          ],
          "choropleth": [
           {
            "colorbar": {
             "outlinewidth": 0,
             "ticks": ""
            },
            "type": "choropleth"
           }
          ],
          "contour": [
           {
            "colorbar": {
             "outlinewidth": 0,
             "ticks": ""
            },
            "colorscale": [
             [
              0,
              "#0d0887"
             ],
             [
              0.1111111111111111,
              "#46039f"
             ],
             [
              0.2222222222222222,
              "#7201a8"
             ],
             [
              0.3333333333333333,
              "#9c179e"
             ],
             [
              0.4444444444444444,
              "#bd3786"
             ],
             [
              0.5555555555555556,
              "#d8576b"
             ],
             [
              0.6666666666666666,
              "#ed7953"
             ],
             [
              0.7777777777777778,
              "#fb9f3a"
             ],
             [
              0.8888888888888888,
              "#fdca26"
             ],
             [
              1,
              "#f0f921"
             ]
            ],
            "type": "contour"
           }
          ],
          "contourcarpet": [
           {
            "colorbar": {
             "outlinewidth": 0,
             "ticks": ""
            },
            "type": "contourcarpet"
           }
          ],
          "heatmap": [
           {
            "colorbar": {
             "outlinewidth": 0,
             "ticks": ""
            },
            "colorscale": [
             [
              0,
              "#0d0887"
             ],
             [
              0.1111111111111111,
              "#46039f"
             ],
             [
              0.2222222222222222,
              "#7201a8"
             ],
             [
              0.3333333333333333,
              "#9c179e"
             ],
             [
              0.4444444444444444,
              "#bd3786"
             ],
             [
              0.5555555555555556,
              "#d8576b"
             ],
             [
              0.6666666666666666,
              "#ed7953"
             ],
             [
              0.7777777777777778,
              "#fb9f3a"
             ],
             [
              0.8888888888888888,
              "#fdca26"
             ],
             [
              1,
              "#f0f921"
             ]
            ],
            "type": "heatmap"
           }
          ],
          "histogram": [
           {
            "marker": {
             "pattern": {
              "fillmode": "overlay",
              "size": 10,
              "solidity": 0.2
             }
            },
            "type": "histogram"
           }
          ],
          "histogram2d": [
           {
            "colorbar": {
             "outlinewidth": 0,
             "ticks": ""
            },
            "colorscale": [
             [
              0,
              "#0d0887"
             ],
             [
              0.1111111111111111,
              "#46039f"
             ],
             [
              0.2222222222222222,
              "#7201a8"
             ],
             [
              0.3333333333333333,
              "#9c179e"
             ],
             [
              0.4444444444444444,
              "#bd3786"
             ],
             [
              0.5555555555555556,
              "#d8576b"
             ],
             [
              0.6666666666666666,
              "#ed7953"
             ],
             [
              0.7777777777777778,
              "#fb9f3a"
             ],
             [
              0.8888888888888888,
              "#fdca26"
             ],
             [
              1,
              "#f0f921"
             ]
            ],
            "type": "histogram2d"
           }
          ],
          "histogram2dcontour": [
           {
            "colorbar": {
             "outlinewidth": 0,
             "ticks": ""
            },
            "colorscale": [
             [
              0,
              "#0d0887"
             ],
             [
              0.1111111111111111,
              "#46039f"
             ],
             [
              0.2222222222222222,
              "#7201a8"
             ],
             [
              0.3333333333333333,
              "#9c179e"
             ],
             [
              0.4444444444444444,
              "#bd3786"
             ],
             [
              0.5555555555555556,
              "#d8576b"
             ],
             [
              0.6666666666666666,
              "#ed7953"
             ],
             [
              0.7777777777777778,
              "#fb9f3a"
             ],
             [
              0.8888888888888888,
              "#fdca26"
             ],
             [
              1,
              "#f0f921"
             ]
            ],
            "type": "histogram2dcontour"
           }
          ],
          "mesh3d": [
           {
            "colorbar": {
             "outlinewidth": 0,
             "ticks": ""
            },
            "type": "mesh3d"
           }
          ],
          "parcoords": [
           {
            "line": {
             "colorbar": {
              "outlinewidth": 0,
              "ticks": ""
             }
            },
            "type": "parcoords"
           }
          ],
          "pie": [
           {
            "automargin": true,
            "type": "pie"
           }
          ],
          "scatter": [
           {
            "fillpattern": {
             "fillmode": "overlay",
             "size": 10,
             "solidity": 0.2
            },
            "type": "scatter"
           }
          ],
          "scatter3d": [
           {
            "line": {
             "colorbar": {
              "outlinewidth": 0,
              "ticks": ""
             }
            },
            "marker": {
             "colorbar": {
              "outlinewidth": 0,
              "ticks": ""
             }
            },
            "type": "scatter3d"
           }
          ],
          "scattercarpet": [
           {
            "marker": {
             "colorbar": {
              "outlinewidth": 0,
              "ticks": ""
             }
            },
            "type": "scattercarpet"
           }
          ],
          "scattergeo": [
           {
            "marker": {
             "colorbar": {
              "outlinewidth": 0,
              "ticks": ""
             }
            },
            "type": "scattergeo"
           }
          ],
          "scattergl": [
           {
            "marker": {
             "colorbar": {
              "outlinewidth": 0,
              "ticks": ""
             }
            },
            "type": "scattergl"
           }
          ],
          "scattermap": [
           {
            "marker": {
             "colorbar": {
              "outlinewidth": 0,
              "ticks": ""
             }
            },
            "type": "scattermap"
           }
          ],
          "scattermapbox": [
           {
            "marker": {
             "colorbar": {
              "outlinewidth": 0,
              "ticks": ""
             }
            },
            "type": "scattermapbox"
           }
          ],
          "scatterpolar": [
           {
            "marker": {
             "colorbar": {
              "outlinewidth": 0,
              "ticks": ""
             }
            },
            "type": "scatterpolar"
           }
          ],
          "scatterpolargl": [
           {
            "marker": {
             "colorbar": {
              "outlinewidth": 0,
              "ticks": ""
             }
            },
            "type": "scatterpolargl"
           }
          ],
          "scatterternary": [
           {
            "marker": {
             "colorbar": {
              "outlinewidth": 0,
              "ticks": ""
             }
            },
            "type": "scatterternary"
           }
          ],
          "surface": [
           {
            "colorbar": {
             "outlinewidth": 0,
             "ticks": ""
            },
            "colorscale": [
             [
              0,
              "#0d0887"
             ],
             [
              0.1111111111111111,
              "#46039f"
             ],
             [
              0.2222222222222222,
              "#7201a8"
             ],
             [
              0.3333333333333333,
              "#9c179e"
             ],
             [
              0.4444444444444444,
              "#bd3786"
             ],
             [
              0.5555555555555556,
              "#d8576b"
             ],
             [
              0.6666666666666666,
              "#ed7953"
             ],
             [
              0.7777777777777778,
              "#fb9f3a"
             ],
             [
              0.8888888888888888,
              "#fdca26"
             ],
             [
              1,
              "#f0f921"
             ]
            ],
            "type": "surface"
           }
          ],
          "table": [
           {
            "cells": {
             "fill": {
              "color": "#EBF0F8"
             },
             "line": {
              "color": "white"
             }
            },
            "header": {
             "fill": {
              "color": "#C8D4E3"
             },
             "line": {
              "color": "white"
             }
            },
            "type": "table"
           }
          ]
         },
         "layout": {
          "annotationdefaults": {
           "arrowcolor": "#2a3f5f",
           "arrowhead": 0,
           "arrowwidth": 1
          },
          "autotypenumbers": "strict",
          "coloraxis": {
           "colorbar": {
            "outlinewidth": 0,
            "ticks": ""
           }
          },
          "colorscale": {
           "diverging": [
            [
             0,
             "#8e0152"
            ],
            [
             0.1,
             "#c51b7d"
            ],
            [
             0.2,
             "#de77ae"
            ],
            [
             0.3,
             "#f1b6da"
            ],
            [
             0.4,
             "#fde0ef"
            ],
            [
             0.5,
             "#f7f7f7"
            ],
            [
             0.6,
             "#e6f5d0"
            ],
            [
             0.7,
             "#b8e186"
            ],
            [
             0.8,
             "#7fbc41"
            ],
            [
             0.9,
             "#4d9221"
            ],
            [
             1,
             "#276419"
            ]
           ],
           "sequential": [
            [
             0,
             "#0d0887"
            ],
            [
             0.1111111111111111,
             "#46039f"
            ],
            [
             0.2222222222222222,
             "#7201a8"
            ],
            [
             0.3333333333333333,
             "#9c179e"
            ],
            [
             0.4444444444444444,
             "#bd3786"
            ],
            [
             0.5555555555555556,
             "#d8576b"
            ],
            [
             0.6666666666666666,
             "#ed7953"
            ],
            [
             0.7777777777777778,
             "#fb9f3a"
            ],
            [
             0.8888888888888888,
             "#fdca26"
            ],
            [
             1,
             "#f0f921"
            ]
           ],
           "sequentialminus": [
            [
             0,
             "#0d0887"
            ],
            [
             0.1111111111111111,
             "#46039f"
            ],
            [
             0.2222222222222222,
             "#7201a8"
            ],
            [
             0.3333333333333333,
             "#9c179e"
            ],
            [
             0.4444444444444444,
             "#bd3786"
            ],
            [
             0.5555555555555556,
             "#d8576b"
            ],
            [
             0.6666666666666666,
             "#ed7953"
            ],
            [
             0.7777777777777778,
             "#fb9f3a"
            ],
            [
             0.8888888888888888,
             "#fdca26"
            ],
            [
             1,
             "#f0f921"
            ]
           ]
          },
          "colorway": [
           "#636efa",
           "#EF553B",
           "#00cc96",
           "#ab63fa",
           "#FFA15A",
           "#19d3f3",
           "#FF6692",
           "#B6E880",
           "#FF97FF",
           "#FECB52"
          ],
          "font": {
           "color": "#2a3f5f"
          },
          "geo": {
           "bgcolor": "white",
           "lakecolor": "white",
           "landcolor": "#E5ECF6",
           "showlakes": true,
           "showland": true,
           "subunitcolor": "white"
          },
          "hoverlabel": {
           "align": "left"
          },
          "hovermode": "closest",
          "mapbox": {
           "style": "light"
          },
          "paper_bgcolor": "white",
          "plot_bgcolor": "#E5ECF6",
          "polar": {
           "angularaxis": {
            "gridcolor": "white",
            "linecolor": "white",
            "ticks": ""
           },
           "bgcolor": "#E5ECF6",
           "radialaxis": {
            "gridcolor": "white",
            "linecolor": "white",
            "ticks": ""
           }
          },
          "scene": {
           "xaxis": {
            "backgroundcolor": "#E5ECF6",
            "gridcolor": "white",
            "gridwidth": 2,
            "linecolor": "white",
            "showbackground": true,
            "ticks": "",
            "zerolinecolor": "white"
           },
           "yaxis": {
            "backgroundcolor": "#E5ECF6",
            "gridcolor": "white",
            "gridwidth": 2,
            "linecolor": "white",
            "showbackground": true,
            "ticks": "",
            "zerolinecolor": "white"
           },
           "zaxis": {
            "backgroundcolor": "#E5ECF6",
            "gridcolor": "white",
            "gridwidth": 2,
            "linecolor": "white",
            "showbackground": true,
            "ticks": "",
            "zerolinecolor": "white"
           }
          },
          "shapedefaults": {
           "line": {
            "color": "#2a3f5f"
           }
          },
          "ternary": {
           "aaxis": {
            "gridcolor": "white",
            "linecolor": "white",
            "ticks": ""
           },
           "baxis": {
            "gridcolor": "white",
            "linecolor": "white",
            "ticks": ""
           },
           "bgcolor": "#E5ECF6",
           "caxis": {
            "gridcolor": "white",
            "linecolor": "white",
            "ticks": ""
           }
          },
          "title": {
           "x": 0.05
          },
          "xaxis": {
           "automargin": true,
           "gridcolor": "white",
           "linecolor": "white",
           "ticks": "",
           "title": {
            "standoff": 15
           },
           "zerolinecolor": "white",
           "zerolinewidth": 2
          },
          "yaxis": {
           "automargin": true,
           "gridcolor": "white",
           "linecolor": "white",
           "ticks": "",
           "title": {
            "standoff": 15
           },
           "zerolinecolor": "white",
           "zerolinewidth": 2
          }
         }
        },
        "title": {
         "text": "Body Mass by Species and sex (violin plot)"
        },
        "violinmode": "group",
        "xaxis": {
         "anchor": "y",
         "domain": [
          0,
          1
         ],
         "title": {
          "text": "species"
         }
        },
        "yaxis": {
         "anchor": "x",
         "domain": [
          0,
          1
         ],
         "title": {
          "text": "body_mass_g"
         }
        }
       }
      }
     },
     "metadata": {},
     "output_type": "display_data"
    }
   ],
   "source": [
    "# 1. Import libraries\n",
    "import plotly.express as px\n",
    "import seaborn as sns\n",
    "import pandas as pd\n",
    "\n",
    "# 2. Get Data and clean\n",
    "penguins = sns.load_dataset(\"penguins\")\n",
    "penguins = penguins.dropna()\n",
    "\n",
    "# Optional\n",
    "print(penguins.head())\n",
    "\n",
    "# 3. Interactive Scatter plot\n",
    "# Show the flipper length relates to body mass\n",
    "fig1 = px.scatter(\n",
    "    penguins,\n",
    "    x='flipper_length_mm',\n",
    "    y='body_mass_g',\n",
    "    color='species',\n",
    "    size='bill_depth_mm',\n",
    "    symbol='sex',\n",
    "    hover_data=[\"island\", \"bill_length_mm\"],\n",
    "    title=\"Penguin Flipper Length vs Body Mass (Interactive Scatter)\"\n",
    ")\n",
    "fig1.show()\n",
    "\n",
    "# 4. Bar Plot: Average Body Mass per Species\n",
    "avg_mass = penguins.groupby(\"species\")[\"body_mass_g\"].mean().reset_index()\n",
    "\n",
    "fig2 = px.bar(\n",
    "   avg_mass,\n",
    "   x=\"species\",\n",
    "   y=\"body_mass_g\",\n",
    "   text_auto=True,\n",
    "   color=\"species\",\n",
    "   title=\"Average Body Mass of Penguin Species\"\n",
    ")\n",
    "fig2.show()\n",
    "\n",
    "# 5. Box Plot: Flipper Length by Island\n",
    "fig3 = px.box(\n",
    "    penguins,\n",
    "    x=\"island\",\n",
    "    y=\"flipper_length_mm\",\n",
    "    color=\"island\",\n",
    "    title=\"Flipper length Distrubution by Island\"\n",
    ")\n",
    "fig3.show()\n",
    "\n",
    "# 6. Violin Plot: Body Mass by sex and species\n",
    "fig4 = px.violin(\n",
    "    penguins,\n",
    "    x=\"species\",\n",
    "    y=\"body_mass_g\",\n",
    "    color=\"sex\",\n",
    "    box=True,           # show internal boxplot\n",
    "    points=\"all\",        # show all data points\n",
    "    hover_data=[\"island\"],\n",
    "    title=\"Body Mass by Species and sex (violin plot)\"\n",
    ")\n",
    "fig4.show()"
   ]
  }
 ],
 "metadata": {
  "kernelspec": {
   "display_name": "vizsafe311",
   "language": "python",
   "name": "python3"
  },
  "language_info": {
   "codemirror_mode": {
    "name": "ipython",
    "version": 3
   },
   "file_extension": ".py",
   "mimetype": "text/x-python",
   "name": "python",
   "nbconvert_exporter": "python",
   "pygments_lexer": "ipython3",
   "version": "3.11.11"
  }
 },
 "nbformat": 4,
 "nbformat_minor": 5
}
