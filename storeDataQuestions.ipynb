{
 "cells": [
  {
   "cell_type": "markdown",
   "id": "0a86efc0",
   "metadata": {},
   "source": [
    "# Key questions to explore\n",
    "\n",
    "1. How do sales vary by store, department, date and holiday?\n",
    "2. What is the impact of markdowns on weekly sales?\n",
    "3. How do external features(tempertaure, fuel price, unemployment, cpi) collelate with sales?\n",
    "4. Which departments/stores are most influenced by holidays and markdowns?\n",
    "5. Does fuel price correlate with sales?\n",
    "BIG QUESTION: What are sale prices going to be next year?\n",
    "\n",
    "## Recommended Plotly Visuals\n",
    "1. Weekly sales over time (line plot)\n",
    "2. Sales by Store Type and size (Box Plot)\n",
    "3. Markdowns vs Sales (Scatter Plot or Bubble Plot)\n",
    "4. Heatmap of average sales per week and store\n",
    "\n",
    "## Feature Correlation Matrix \n",
    "To explore correlations between numeric features and sales\n",
    "\n",
    "### **Remember** \n",
    "You should be able to explain why you chose each visual.\n",
    "Reflect on data cleaning decisions (NA in markdowns...)\n",
    "Create a clear narrative using Plotly\n",
    "\n",
    "\n",
    "\n",
    "### Upon getting all that data - to go the extra mile...\n",
    "Identify high performing store types or departments during holidays\n",
    "Recommend which markdowsn to use when for max effect\n",
    "Flag underperforming combinations(eg high markdowns yet low sales)\n",
    "suggest resource allocation to holidays with the biggest return on investment (ROI)"
   ]
  }
 ],
 "metadata": {
  "language_info": {
   "name": "python"
  }
 },
 "nbformat": 4,
 "nbformat_minor": 5
}
